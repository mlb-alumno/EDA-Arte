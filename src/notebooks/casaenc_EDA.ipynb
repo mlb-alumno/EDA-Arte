{
 "cells": [
  {
   "cell_type": "markdown",
   "metadata": {},
   "source": [
    "# **Visualización previa ¿Con qué datos contamos?**"
   ]
  },
  {
   "cell_type": "markdown",
   "metadata": {},
   "source": [
    "## Limpieza previa"
   ]
  },
  {
   "cell_type": "code",
   "execution_count": 8,
   "metadata": {},
   "outputs": [],
   "source": [
    "import seaborn as sns\n",
    "import pandas as pd\n",
    "from matplotlib import pyplot as plt\n",
    "import plotly.express as px\n",
    "import re\n",
    "# Pequeña limpieza de datos\n",
    "casa_df = pd.read_csv(\"../data/casa-encendida/casa_enc.csv\",index_col=0)\n",
    "\n",
    "precios = casa_df[[\"Precio\",\"date\",\"category\"]].dropna()\n",
    "\n",
    "casa_df[\"year\"] = casa_df[\"date\"].str.extract(r'(\\d\\d\\d\\d$)')\n",
    "\n",
    "def to_int(x):\n",
    "    exp = re.findall(r'\\d+|Gratis',x)[0]\n",
    "    if exp == 'Gratis':\n",
    "        return 0\n",
    "    else: return int(exp)\n",
    "precios.loc[:,\"Precio\"] = precios[\"Precio\"].apply(to_int)\n",
    "precios = precios.sort_index(ascending=False)\n",
    "casa_df.to_csv(\"../data/casa-encendida/casa_enc_year.csv\")\n"
   ]
  },
  {
   "cell_type": "code",
   "execution_count": 3,
   "metadata": {},
   "outputs": [
    {
     "data": {
      "text/html": [
       "<div>\n",
       "<style scoped>\n",
       "    .dataframe tbody tr th:only-of-type {\n",
       "        vertical-align: middle;\n",
       "    }\n",
       "\n",
       "    .dataframe tbody tr th {\n",
       "        vertical-align: top;\n",
       "    }\n",
       "\n",
       "    .dataframe thead th {\n",
       "        text-align: right;\n",
       "    }\n",
       "</style>\n",
       "<table border=\"1\" class=\"dataframe\">\n",
       "  <thead>\n",
       "    <tr style=\"text-align: right;\">\n",
       "      <th></th>\n",
       "      <th>title</th>\n",
       "      <th>artist</th>\n",
       "      <th>date</th>\n",
       "      <th>description</th>\n",
       "      <th>text</th>\n",
       "      <th>tags</th>\n",
       "      <th>group</th>\n",
       "      <th>Dirigido a</th>\n",
       "      <th>Ubicación</th>\n",
       "      <th>Duración</th>\n",
       "      <th>Precio</th>\n",
       "      <th>event</th>\n",
       "      <th>category</th>\n",
       "      <th>url</th>\n",
       "      <th>image</th>\n",
       "      <th>year</th>\n",
       "    </tr>\n",
       "  </thead>\n",
       "  <tbody>\n",
       "    <tr>\n",
       "      <th>0</th>\n",
       "      <td>Sonidos de barrio</td>\n",
       "      <td>Kleber Mendonça Filho</td>\n",
       "      <td>15 jul 2023</td>\n",
       "      <td>La película narra las realidades violentas ocu...</td>\n",
       "      <td>Sonidos de barrio, de Kleber Mendoça Filho. Br...</td>\n",
       "      <td>['#Audiovisuales']</td>\n",
       "      <td>La Terraza Magnética 2023. ¡Alucina, vecina!</td>\n",
       "      <td>Público general</td>\n",
       "      <td>Terraza</td>\n",
       "      <td>1 hora 59 minutos</td>\n",
       "      <td>4€</td>\n",
       "      <td>No details</td>\n",
       "      <td>['CINE']</td>\n",
       "      <td>https://www.lacasaencendida.es/cine/sonidos-de...</td>\n",
       "      <td>https://www.lacasaencendida.es/storage/14817/r...</td>\n",
       "      <td>2023</td>\n",
       "    </tr>\n",
       "    <tr>\n",
       "      <th>1</th>\n",
       "      <td>Cashu</td>\n",
       "      <td>No definido</td>\n",
       "      <td>14 jul 2023</td>\n",
       "      <td>Carolina Schutzer, alias DJ Cashu, es una de l...</td>\n",
       "      <td>En un intento de ocupar y descentralizar la es...</td>\n",
       "      <td>['#Música']</td>\n",
       "      <td>La Terraza Magnética 2023. ¡Alucina, vecina!</td>\n",
       "      <td>Público general</td>\n",
       "      <td>Terraza</td>\n",
       "      <td>1 hora</td>\n",
       "      <td>8€</td>\n",
       "      <td>Apertura de puertas a las 20:30 h.</td>\n",
       "      <td>['CONCIERTOS']</td>\n",
       "      <td>https://www.lacasaencendida.es/conciertos/cashu</td>\n",
       "      <td>https://www.lacasaencendida.es/storage/15099/r...</td>\n",
       "      <td>2023</td>\n",
       "    </tr>\n",
       "    <tr>\n",
       "      <th>2</th>\n",
       "      <td>El orden divino</td>\n",
       "      <td>Petra Biondina Volpe</td>\n",
       "      <td>13 jul 2023</td>\n",
       "      <td>En los años setenta, las mujeres no podían vot...</td>\n",
       "      <td>El orden divino, de Petra Biondina Volpe, Suiz...</td>\n",
       "      <td>['#Feminismos']</td>\n",
       "      <td>Gestos necesarios para cambiar el mundo</td>\n",
       "      <td>Público general</td>\n",
       "      <td>Sala Audiovisual</td>\n",
       "      <td>2 horas 30 minutos</td>\n",
       "      <td>4€</td>\n",
       "      <td>Coloquio con: \\nMarifé Santiago Bolaños, poeta...</td>\n",
       "      <td>['CINE', 'ENCUENTROS']</td>\n",
       "      <td>https://www.lacasaencendida.es/cine/el-orden-d...</td>\n",
       "      <td>https://www.lacasaencendida.es/storage/13824/r...</td>\n",
       "      <td>2023</td>\n",
       "    </tr>\n",
       "    <tr>\n",
       "      <th>3</th>\n",
       "      <td>Loving</td>\n",
       "      <td>Jeff Nichols</td>\n",
       "      <td>11 jul 2023</td>\n",
       "      <td>En la tercera sesión del ciclo 'Gestos necesar...</td>\n",
       "      <td>Loving, de Jeff Nichols, EEUU, 2016. 120 min. ...</td>\n",
       "      <td>['#Antirracismo / migración']</td>\n",
       "      <td>Gestos necesarios para cambiar el mundo</td>\n",
       "      <td>Público general</td>\n",
       "      <td>Sala Audiovisual</td>\n",
       "      <td>2 horas 30 minutos</td>\n",
       "      <td>4€</td>\n",
       "      <td>Coloquio con: \\nMoha Gerehou, periodista y exp...</td>\n",
       "      <td>['CINE', 'ENCUENTROS']</td>\n",
       "      <td>https://www.lacasaencendida.es/cine/loving-de-...</td>\n",
       "      <td>https://www.lacasaencendida.es/storage/13815/r...</td>\n",
       "      <td>2023</td>\n",
       "    </tr>\n",
       "    <tr>\n",
       "      <th>4</th>\n",
       "      <td>Greener Grass</td>\n",
       "      <td>Jocelyn DeBoer y Dawn Luebbe</td>\n",
       "      <td>8 jul 2023</td>\n",
       "      <td>Considerada una de las piezas más imaginativas...</td>\n",
       "      <td>Greener Grass, de Jocelyn DeBoer y Dawn Luebbe...</td>\n",
       "      <td>['#Audiovisuales']</td>\n",
       "      <td>La Terraza Magnética 2023. ¡Alucina, vecina!</td>\n",
       "      <td>Público general</td>\n",
       "      <td>Terraza</td>\n",
       "      <td>1 hora 45 minutos</td>\n",
       "      <td>4€</td>\n",
       "      <td>No details</td>\n",
       "      <td>['CINE']</td>\n",
       "      <td>https://www.lacasaencendida.es/cine/greener-gr...</td>\n",
       "      <td>https://www.lacasaencendida.es/storage/14816/r...</td>\n",
       "      <td>2023</td>\n",
       "    </tr>\n",
       "    <tr>\n",
       "      <th>...</th>\n",
       "      <td>...</td>\n",
       "      <td>...</td>\n",
       "      <td>...</td>\n",
       "      <td>...</td>\n",
       "      <td>...</td>\n",
       "      <td>...</td>\n",
       "      <td>...</td>\n",
       "      <td>...</td>\n",
       "      <td>...</td>\n",
       "      <td>...</td>\n",
       "      <td>...</td>\n",
       "      <td>...</td>\n",
       "      <td>...</td>\n",
       "      <td>...</td>\n",
       "      <td>...</td>\n",
       "      <td>...</td>\n",
       "    </tr>\n",
       "    <tr>\n",
       "      <th>4270</th>\n",
       "      <td>Premio de fotografía humanitaria Luis Valtueña...</td>\n",
       "      <td>No definido</td>\n",
       "      <td>22 ene - 28 ene 2012</td>\n",
       "      <td>Alessandro Grassani recoge la dura vida de los...</td>\n",
       "      <td>NaN</td>\n",
       "      <td>['']</td>\n",
       "      <td>RADIO - Archivo de entrevistas</td>\n",
       "      <td>NaN</td>\n",
       "      <td>NaN</td>\n",
       "      <td>NaN</td>\n",
       "      <td>NaN</td>\n",
       "      <td>No details</td>\n",
       "      <td>['ENCUENTROS']</td>\n",
       "      <td>https://www.lacasaencendida.es/encuentros/prem...</td>\n",
       "      <td>https://www.lacasaencendida.es/storage/11143/r...</td>\n",
       "      <td>2012</td>\n",
       "    </tr>\n",
       "    <tr>\n",
       "      <th>4271</th>\n",
       "      <td>Exposición \"El Paisaje Holandés\"</td>\n",
       "      <td>No definido</td>\n",
       "      <td>22 ene - 28 ene 2012</td>\n",
       "      <td>En los 60 en Holanda, un grupo de artistas cul...</td>\n",
       "      <td>NaN</td>\n",
       "      <td>['']</td>\n",
       "      <td>RADIO - Archivo de entrevistas</td>\n",
       "      <td>NaN</td>\n",
       "      <td>NaN</td>\n",
       "      <td>NaN</td>\n",
       "      <td>NaN</td>\n",
       "      <td>No details</td>\n",
       "      <td>['ENCUENTROS']</td>\n",
       "      <td>https://www.lacasaencendida.es/encuentros/expo...</td>\n",
       "      <td>https://www.lacasaencendida.es/storage/11353/r...</td>\n",
       "      <td>2012</td>\n",
       "    </tr>\n",
       "    <tr>\n",
       "      <th>4272</th>\n",
       "      <td>Entrevista a Teresa Aranguren</td>\n",
       "      <td>No definido</td>\n",
       "      <td>15 ene - 21 ene 2012</td>\n",
       "      <td>La periodista analiza la situación del pueblo ...</td>\n",
       "      <td>NaN</td>\n",
       "      <td>['']</td>\n",
       "      <td>RADIO - Archivo de entrevistas</td>\n",
       "      <td>NaN</td>\n",
       "      <td>NaN</td>\n",
       "      <td>NaN</td>\n",
       "      <td>NaN</td>\n",
       "      <td>No details</td>\n",
       "      <td>['ENCUENTROS']</td>\n",
       "      <td>https://www.lacasaencendida.es/encuentros/entr...</td>\n",
       "      <td>https://www.lacasaencendida.es/storage/11154/r...</td>\n",
       "      <td>2012</td>\n",
       "    </tr>\n",
       "    <tr>\n",
       "      <th>4273</th>\n",
       "      <td>Entrevista a Jonas Mekas</td>\n",
       "      <td>No definido</td>\n",
       "      <td>15 ene - 21 ene 2012</td>\n",
       "      <td>Un diario íntimo grabado en imágenes. El cinea...</td>\n",
       "      <td>NaN</td>\n",
       "      <td>['']</td>\n",
       "      <td>RADIO - Archivo de entrevistas</td>\n",
       "      <td>NaN</td>\n",
       "      <td>NaN</td>\n",
       "      <td>NaN</td>\n",
       "      <td>NaN</td>\n",
       "      <td>No details</td>\n",
       "      <td>['ENCUENTROS']</td>\n",
       "      <td>https://www.lacasaencendida.es/encuentros/entr...</td>\n",
       "      <td>https://www.lacasaencendida.es/storage/11155/r...</td>\n",
       "      <td>2012</td>\n",
       "    </tr>\n",
       "    <tr>\n",
       "      <th>4274</th>\n",
       "      <td>Entrevista a Chefa Alonso</td>\n",
       "      <td>No definido</td>\n",
       "      <td>15 ene - 21 ene 2012</td>\n",
       "      <td>La saxo soprano, percusionista y música improv...</td>\n",
       "      <td>NaN</td>\n",
       "      <td>['']</td>\n",
       "      <td>RADIO - Archivo de entrevistas</td>\n",
       "      <td>NaN</td>\n",
       "      <td>NaN</td>\n",
       "      <td>NaN</td>\n",
       "      <td>NaN</td>\n",
       "      <td>No details</td>\n",
       "      <td>['ENCUENTROS']</td>\n",
       "      <td>https://www.lacasaencendida.es/encuentros/entr...</td>\n",
       "      <td>https://www.lacasaencendida.es/storage/11158/r...</td>\n",
       "      <td>2012</td>\n",
       "    </tr>\n",
       "  </tbody>\n",
       "</table>\n",
       "<p>4275 rows × 16 columns</p>\n",
       "</div>"
      ],
      "text/plain": [
       "                                                  title  \\\n",
       "0                                     Sonidos de barrio   \n",
       "1                                                 Cashu   \n",
       "2                                       El orden divino   \n",
       "3                                                Loving   \n",
       "4                                         Greener Grass   \n",
       "...                                                 ...   \n",
       "4270  Premio de fotografía humanitaria Luis Valtueña...   \n",
       "4271                   Exposición \"El Paisaje Holandés\"   \n",
       "4272                      Entrevista a Teresa Aranguren   \n",
       "4273                           Entrevista a Jonas Mekas   \n",
       "4274                          Entrevista a Chefa Alonso   \n",
       "\n",
       "                            artist                  date  \\\n",
       "0            Kleber Mendonça Filho           15 jul 2023   \n",
       "1                      No definido           14 jul 2023   \n",
       "2             Petra Biondina Volpe           13 jul 2023   \n",
       "3                     Jeff Nichols           11 jul 2023   \n",
       "4     Jocelyn DeBoer y Dawn Luebbe            8 jul 2023   \n",
       "...                            ...                   ...   \n",
       "4270                   No definido  22 ene - 28 ene 2012   \n",
       "4271                   No definido  22 ene - 28 ene 2012   \n",
       "4272                   No definido  15 ene - 21 ene 2012   \n",
       "4273                   No definido  15 ene - 21 ene 2012   \n",
       "4274                   No definido  15 ene - 21 ene 2012   \n",
       "\n",
       "                                            description  \\\n",
       "0     La película narra las realidades violentas ocu...   \n",
       "1     Carolina Schutzer, alias DJ Cashu, es una de l...   \n",
       "2     En los años setenta, las mujeres no podían vot...   \n",
       "3     En la tercera sesión del ciclo 'Gestos necesar...   \n",
       "4     Considerada una de las piezas más imaginativas...   \n",
       "...                                                 ...   \n",
       "4270  Alessandro Grassani recoge la dura vida de los...   \n",
       "4271  En los 60 en Holanda, un grupo de artistas cul...   \n",
       "4272  La periodista analiza la situación del pueblo ...   \n",
       "4273  Un diario íntimo grabado en imágenes. El cinea...   \n",
       "4274  La saxo soprano, percusionista y música improv...   \n",
       "\n",
       "                                                   text  \\\n",
       "0     Sonidos de barrio, de Kleber Mendoça Filho. Br...   \n",
       "1     En un intento de ocupar y descentralizar la es...   \n",
       "2     El orden divino, de Petra Biondina Volpe, Suiz...   \n",
       "3     Loving, de Jeff Nichols, EEUU, 2016. 120 min. ...   \n",
       "4     Greener Grass, de Jocelyn DeBoer y Dawn Luebbe...   \n",
       "...                                                 ...   \n",
       "4270                                                NaN   \n",
       "4271                                                NaN   \n",
       "4272                                                NaN   \n",
       "4273                                                NaN   \n",
       "4274                                                NaN   \n",
       "\n",
       "                               tags  \\\n",
       "0                ['#Audiovisuales']   \n",
       "1                       ['#Música']   \n",
       "2                   ['#Feminismos']   \n",
       "3     ['#Antirracismo / migración']   \n",
       "4                ['#Audiovisuales']   \n",
       "...                             ...   \n",
       "4270                           ['']   \n",
       "4271                           ['']   \n",
       "4272                           ['']   \n",
       "4273                           ['']   \n",
       "4274                           ['']   \n",
       "\n",
       "                                             group       Dirigido a  \\\n",
       "0     La Terraza Magnética 2023. ¡Alucina, vecina!  Público general   \n",
       "1     La Terraza Magnética 2023. ¡Alucina, vecina!  Público general   \n",
       "2          Gestos necesarios para cambiar el mundo  Público general   \n",
       "3          Gestos necesarios para cambiar el mundo  Público general   \n",
       "4     La Terraza Magnética 2023. ¡Alucina, vecina!  Público general   \n",
       "...                                            ...              ...   \n",
       "4270                RADIO - Archivo de entrevistas              NaN   \n",
       "4271                RADIO - Archivo de entrevistas              NaN   \n",
       "4272                RADIO - Archivo de entrevistas              NaN   \n",
       "4273                RADIO - Archivo de entrevistas              NaN   \n",
       "4274                RADIO - Archivo de entrevistas              NaN   \n",
       "\n",
       "             Ubicación            Duración Precio  \\\n",
       "0              Terraza   1 hora 59 minutos     4€   \n",
       "1              Terraza              1 hora     8€   \n",
       "2     Sala Audiovisual  2 horas 30 minutos     4€   \n",
       "3     Sala Audiovisual  2 horas 30 minutos     4€   \n",
       "4              Terraza   1 hora 45 minutos     4€   \n",
       "...                ...                 ...    ...   \n",
       "4270               NaN                 NaN    NaN   \n",
       "4271               NaN                 NaN    NaN   \n",
       "4272               NaN                 NaN    NaN   \n",
       "4273               NaN                 NaN    NaN   \n",
       "4274               NaN                 NaN    NaN   \n",
       "\n",
       "                                                  event  \\\n",
       "0                                            No details   \n",
       "1                    Apertura de puertas a las 20:30 h.   \n",
       "2     Coloquio con: \\nMarifé Santiago Bolaños, poeta...   \n",
       "3     Coloquio con: \\nMoha Gerehou, periodista y exp...   \n",
       "4                                            No details   \n",
       "...                                                 ...   \n",
       "4270                                         No details   \n",
       "4271                                         No details   \n",
       "4272                                         No details   \n",
       "4273                                         No details   \n",
       "4274                                         No details   \n",
       "\n",
       "                    category  \\\n",
       "0                   ['CINE']   \n",
       "1             ['CONCIERTOS']   \n",
       "2     ['CINE', 'ENCUENTROS']   \n",
       "3     ['CINE', 'ENCUENTROS']   \n",
       "4                   ['CINE']   \n",
       "...                      ...   \n",
       "4270          ['ENCUENTROS']   \n",
       "4271          ['ENCUENTROS']   \n",
       "4272          ['ENCUENTROS']   \n",
       "4273          ['ENCUENTROS']   \n",
       "4274          ['ENCUENTROS']   \n",
       "\n",
       "                                                    url  \\\n",
       "0     https://www.lacasaencendida.es/cine/sonidos-de...   \n",
       "1       https://www.lacasaencendida.es/conciertos/cashu   \n",
       "2     https://www.lacasaencendida.es/cine/el-orden-d...   \n",
       "3     https://www.lacasaencendida.es/cine/loving-de-...   \n",
       "4     https://www.lacasaencendida.es/cine/greener-gr...   \n",
       "...                                                 ...   \n",
       "4270  https://www.lacasaencendida.es/encuentros/prem...   \n",
       "4271  https://www.lacasaencendida.es/encuentros/expo...   \n",
       "4272  https://www.lacasaencendida.es/encuentros/entr...   \n",
       "4273  https://www.lacasaencendida.es/encuentros/entr...   \n",
       "4274  https://www.lacasaencendida.es/encuentros/entr...   \n",
       "\n",
       "                                                  image  year  \n",
       "0     https://www.lacasaencendida.es/storage/14817/r...  2023  \n",
       "1     https://www.lacasaencendida.es/storage/15099/r...  2023  \n",
       "2     https://www.lacasaencendida.es/storage/13824/r...  2023  \n",
       "3     https://www.lacasaencendida.es/storage/13815/r...  2023  \n",
       "4     https://www.lacasaencendida.es/storage/14816/r...  2023  \n",
       "...                                                 ...   ...  \n",
       "4270  https://www.lacasaencendida.es/storage/11143/r...  2012  \n",
       "4271  https://www.lacasaencendida.es/storage/11353/r...  2012  \n",
       "4272  https://www.lacasaencendida.es/storage/11154/r...  2012  \n",
       "4273  https://www.lacasaencendida.es/storage/11155/r...  2012  \n",
       "4274  https://www.lacasaencendida.es/storage/11158/r...  2012  \n",
       "\n",
       "[4275 rows x 16 columns]"
      ]
     },
     "execution_count": 3,
     "metadata": {},
     "output_type": "execute_result"
    }
   ],
   "source": [
    "#Observamos el dataframe\n",
    "casa_df"
   ]
  },
  {
   "cell_type": "markdown",
   "metadata": {},
   "source": [
    "## Precio de las entradas de la última temporada en función de la categoría"
   ]
  },
  {
   "cell_type": "code",
   "execution_count": 4,
   "metadata": {},
   "outputs": [
    {
     "name": "stderr",
     "output_type": "stream",
     "text": [
      "/var/folders/bt/7bxnp6hd33qdk5yq_vc14kf40000gn/T/ipykernel_30748/2980962608.py:4: UserWarning: FixedFormatter should only be used together with FixedLocator\n",
      "  ax.set_xticklabels(labels=precios[\"date\"], rotation=45, ha='right')\n"
     ]
    },
    {
     "data": {
      "text/plain": [
       "<Axes: xlabel='date', ylabel='Precio'>"
      ]
     },
     "execution_count": 4,
     "metadata": {},
     "output_type": "execute_result"
    },
    {
     "data": {
      "image/png": "[encoded data removed]",
      "text/plain": [
       "<Figure size 1200x700 with 1 Axes>"
      ]
     },
     "metadata": {},
     "output_type": "display_data"
    }
   ],
   "source": [
    "#Precios de las entradas\n",
    "fig, ax = plt.subplots(figsize = (12,7))    \n",
    "sns.scatterplot(data=precios,x=\"date\",y=\"Precio\",hue=\"category\")\n",
    "ax.set_xticklabels(labels=precios[\"date\"], rotation=45, ha='right')\n",
    "ax"
   ]
  },
  {
   "cell_type": "markdown",
   "metadata": {},
   "source": [
    "## Eventos por año"
   ]
  },
  {
   "cell_type": "code",
   "execution_count": 6,
   "metadata": {},
   "outputs": [
    {
     "data": {
      "text/html": [
       "<div>\n",
       "<style scoped>\n",
       "    .dataframe tbody tr th:only-of-type {\n",
       "        vertical-align: middle;\n",
       "    }\n",
       "\n",
       "    .dataframe tbody tr th {\n",
       "        vertical-align: top;\n",
       "    }\n",
       "\n",
       "    .dataframe thead th {\n",
       "        text-align: right;\n",
       "    }\n",
       "</style>\n",
       "<table border=\"1\" class=\"dataframe\">\n",
       "  <thead>\n",
       "    <tr style=\"text-align: right;\">\n",
       "      <th></th>\n",
       "      <th>Año</th>\n",
       "      <th>Eventos</th>\n",
       "    </tr>\n",
       "  </thead>\n",
       "  <tbody>\n",
       "    <tr>\n",
       "      <th>0</th>\n",
       "      <td>2012</td>\n",
       "      <td>412</td>\n",
       "    </tr>\n",
       "    <tr>\n",
       "      <th>1</th>\n",
       "      <td>2013</td>\n",
       "      <td>426</td>\n",
       "    </tr>\n",
       "    <tr>\n",
       "      <th>2</th>\n",
       "      <td>2014</td>\n",
       "      <td>391</td>\n",
       "    </tr>\n",
       "    <tr>\n",
       "      <th>3</th>\n",
       "      <td>2015</td>\n",
       "      <td>395</td>\n",
       "    </tr>\n",
       "    <tr>\n",
       "      <th>4</th>\n",
       "      <td>2016</td>\n",
       "      <td>371</td>\n",
       "    </tr>\n",
       "    <tr>\n",
       "      <th>5</th>\n",
       "      <td>2017</td>\n",
       "      <td>354</td>\n",
       "    </tr>\n",
       "    <tr>\n",
       "      <th>6</th>\n",
       "      <td>2018</td>\n",
       "      <td>362</td>\n",
       "    </tr>\n",
       "    <tr>\n",
       "      <th>7</th>\n",
       "      <td>2019</td>\n",
       "      <td>375</td>\n",
       "    </tr>\n",
       "    <tr>\n",
       "      <th>8</th>\n",
       "      <td>2020</td>\n",
       "      <td>346</td>\n",
       "    </tr>\n",
       "    <tr>\n",
       "      <th>9</th>\n",
       "      <td>2021</td>\n",
       "      <td>358</td>\n",
       "    </tr>\n",
       "    <tr>\n",
       "      <th>10</th>\n",
       "      <td>2022</td>\n",
       "      <td>321</td>\n",
       "    </tr>\n",
       "    <tr>\n",
       "      <th>11</th>\n",
       "      <td>2023</td>\n",
       "      <td>101</td>\n",
       "    </tr>\n",
       "  </tbody>\n",
       "</table>\n",
       "</div>"
      ],
      "text/plain": [
       "     Año  Eventos\n",
       "0   2012      412\n",
       "1   2013      426\n",
       "2   2014      391\n",
       "3   2015      395\n",
       "4   2016      371\n",
       "5   2017      354\n",
       "6   2018      362\n",
       "7   2019      375\n",
       "8   2020      346\n",
       "9   2021      358\n",
       "10  2022      321\n",
       "11  2023      101"
      ]
     },
     "execution_count": 6,
     "metadata": {},
     "output_type": "execute_result"
    },
    {
     "data": {
      "image/png": "[encoded data removed]",
      "text/plain": [
       "<Figure size 640x480 with 1 Axes>"
      ]
     },
     "metadata": {},
     "output_type": "display_data"
    }
   ],
   "source": [
    "# Eventos por año\n",
    "eventos_df = pd.DataFrame()\n",
    "\n",
    "eventos_list = []\n",
    "for i in range (2012,2024):\n",
    "    eventos_dict = {}\n",
    "    neventos = casa_df[casa_df[\"date\"].str.contains(str(i))]\n",
    "    eventos_dict[\"Año\"] = str(i)\n",
    "    eventos_dict[\"Eventos\"]= neventos.shape[0]\n",
    "    eventos_list.append(eventos_dict)\n",
    "eventos_df = pd.DataFrame(eventos_list)\n",
    "\n",
    "plt.stem(eventos_df['Año'],eventos_df['Eventos'])\n",
    "plt.xlabel(\"Year\")\n",
    "plt.ylabel(\"Events\")\n",
    "eventos_df\n",
    "\n",
    "    "
   ]
  },
  {
   "cell_type": "markdown",
   "metadata": {},
   "source": [
    "# Eventos por mes"
   ]
  },
  {
   "cell_type": "code",
   "execution_count": 7,
   "metadata": {},
   "outputs": [
    {
     "name": "stderr",
     "output_type": "stream",
     "text": [
      "/Library/Frameworks/Python.framework/Versions/3.11/lib/python3.11/site-packages/seaborn/categorical.py:3201: UserWarning: Setting `sharex=False` with `color=None` may cause different levels of the `x` variable to share colors. This will change in a future version.\n",
      "  warnings.warn(msg.format(\"sharex\", \"x\"), UserWarning)\n"
     ]
    },
    {
     "data": {
      "text/html": [
       "<div>\n",
       "<style scoped>\n",
       "    .dataframe tbody tr th:only-of-type {\n",
       "        vertical-align: middle;\n",
       "    }\n",
       "\n",
       "    .dataframe tbody tr th {\n",
       "        vertical-align: top;\n",
       "    }\n",
       "\n",
       "    .dataframe thead th {\n",
       "        text-align: right;\n",
       "    }\n",
       "</style>\n",
       "<table border=\"1\" class=\"dataframe\">\n",
       "  <thead>\n",
       "    <tr style=\"text-align: right;\">\n",
       "      <th></th>\n",
       "      <th>Year</th>\n",
       "      <th>month</th>\n",
       "      <th>events</th>\n",
       "    </tr>\n",
       "  </thead>\n",
       "  <tbody>\n",
       "    <tr>\n",
       "      <th>0</th>\n",
       "      <td>2012</td>\n",
       "      <td>ene</td>\n",
       "      <td>6</td>\n",
       "    </tr>\n",
       "    <tr>\n",
       "      <th>1</th>\n",
       "      <td>2012</td>\n",
       "      <td>feb</td>\n",
       "      <td>16</td>\n",
       "    </tr>\n",
       "    <tr>\n",
       "      <th>2</th>\n",
       "      <td>2012</td>\n",
       "      <td>mar</td>\n",
       "      <td>30</td>\n",
       "    </tr>\n",
       "    <tr>\n",
       "      <th>3</th>\n",
       "      <td>2012</td>\n",
       "      <td>abr</td>\n",
       "      <td>51</td>\n",
       "    </tr>\n",
       "    <tr>\n",
       "      <th>4</th>\n",
       "      <td>2012</td>\n",
       "      <td>may</td>\n",
       "      <td>47</td>\n",
       "    </tr>\n",
       "    <tr>\n",
       "      <th>...</th>\n",
       "      <td>...</td>\n",
       "      <td>...</td>\n",
       "      <td>...</td>\n",
       "    </tr>\n",
       "    <tr>\n",
       "      <th>139</th>\n",
       "      <td>2023</td>\n",
       "      <td>ago</td>\n",
       "      <td>0</td>\n",
       "    </tr>\n",
       "    <tr>\n",
       "      <th>140</th>\n",
       "      <td>2023</td>\n",
       "      <td>sep</td>\n",
       "      <td>0</td>\n",
       "    </tr>\n",
       "    <tr>\n",
       "      <th>141</th>\n",
       "      <td>2023</td>\n",
       "      <td>oct</td>\n",
       "      <td>0</td>\n",
       "    </tr>\n",
       "    <tr>\n",
       "      <th>142</th>\n",
       "      <td>2023</td>\n",
       "      <td>nov</td>\n",
       "      <td>0</td>\n",
       "    </tr>\n",
       "    <tr>\n",
       "      <th>143</th>\n",
       "      <td>2023</td>\n",
       "      <td>dic</td>\n",
       "      <td>0</td>\n",
       "    </tr>\n",
       "  </tbody>\n",
       "</table>\n",
       "<p>144 rows × 3 columns</p>\n",
       "</div>"
      ],
      "text/plain": [
       "     Year month  events\n",
       "0    2012   ene       6\n",
       "1    2012   feb      16\n",
       "2    2012   mar      30\n",
       "3    2012   abr      51\n",
       "4    2012   may      47\n",
       "..    ...   ...     ...\n",
       "139  2023   ago       0\n",
       "140  2023   sep       0\n",
       "141  2023   oct       0\n",
       "142  2023   nov       0\n",
       "143  2023   dic       0\n",
       "\n",
       "[144 rows x 3 columns]"
      ]
     },
     "execution_count": 7,
     "metadata": {},
     "output_type": "execute_result"
    },
    {
     "data": {
      "text/plain": [
       "<Figure size 3000x1000 with 0 Axes>"
      ]
     },
     "metadata": {},
     "output_type": "display_data"
    },
    {
     "data": {
      "image/png": "[encoded data removed]",
      "text/plain": [
       "<Figure size 2000x1500 with 12 Axes>"
      ]
     },
     "metadata": {},
     "output_type": "display_data"
    }
   ],
   "source": [
    "# Eventos por mes visualizado en años\n",
    "\n",
    "month_list = []\n",
    "years = range(2012,2024)\n",
    "months = [\"ene\",\"feb\",\"mar\",\"abr\",\"may\",\"jun\",\"jul\",\"ago\",\"sep\",\"oct\",\"nov\",\"dic\"]\n",
    "for i in years:\n",
    "    for j in months:\n",
    "        month_dict = {}\n",
    "        month_dict[\"Year\"]= i\n",
    "        month_dict[\"month\"] = j\n",
    "        month_dict[\"events\"]= casa_df[casa_df[\"date\"].str.contains(j+\" \"+str(i))].shape[0]\n",
    "        month_list.append(month_dict)\n",
    "month_df = pd.DataFrame(month_list)\n",
    "plt.figure(figsize=(30,10));\n",
    "sns.catplot(x=\"month\",\n",
    "            y=\"events\",\n",
    "            col=\"Year\",\n",
    "            col_wrap=4,\n",
    "            data=month_df,\n",
    "            kind=\"bar\",sharex=False).set(ylabel='Events');\n",
    "\n",
    "month_df\n"
   ]
  },
  {
   "cell_type": "code",
   "execution_count": 39,
   "metadata": {},
   "outputs": [
    {
     "data": {
      "text/html": [
       "<div>\n",
       "<style scoped>\n",
       "    .dataframe tbody tr th:only-of-type {\n",
       "        vertical-align: middle;\n",
       "    }\n",
       "\n",
       "    .dataframe tbody tr th {\n",
       "        vertical-align: top;\n",
       "    }\n",
       "\n",
       "    .dataframe thead th {\n",
       "        text-align: right;\n",
       "    }\n",
       "</style>\n",
       "<table border=\"1\" class=\"dataframe\">\n",
       "  <thead>\n",
       "    <tr style=\"text-align: right;\">\n",
       "      <th></th>\n",
       "      <th>Year</th>\n",
       "      <th>month</th>\n",
       "      <th>events</th>\n",
       "    </tr>\n",
       "  </thead>\n",
       "  <tbody>\n",
       "    <tr>\n",
       "      <th>0</th>\n",
       "      <td>2012</td>\n",
       "      <td>ene</td>\n",
       "      <td>6</td>\n",
       "    </tr>\n",
       "    <tr>\n",
       "      <th>12</th>\n",
       "      <td>2013</td>\n",
       "      <td>ene</td>\n",
       "      <td>24</td>\n",
       "    </tr>\n",
       "    <tr>\n",
       "      <th>24</th>\n",
       "      <td>2014</td>\n",
       "      <td>ene</td>\n",
       "      <td>11</td>\n",
       "    </tr>\n",
       "    <tr>\n",
       "      <th>36</th>\n",
       "      <td>2015</td>\n",
       "      <td>ene</td>\n",
       "      <td>24</td>\n",
       "    </tr>\n",
       "    <tr>\n",
       "      <th>48</th>\n",
       "      <td>2016</td>\n",
       "      <td>ene</td>\n",
       "      <td>7</td>\n",
       "    </tr>\n",
       "    <tr>\n",
       "      <th>60</th>\n",
       "      <td>2017</td>\n",
       "      <td>ene</td>\n",
       "      <td>17</td>\n",
       "    </tr>\n",
       "    <tr>\n",
       "      <th>72</th>\n",
       "      <td>2018</td>\n",
       "      <td>ene</td>\n",
       "      <td>13</td>\n",
       "    </tr>\n",
       "    <tr>\n",
       "      <th>84</th>\n",
       "      <td>2019</td>\n",
       "      <td>ene</td>\n",
       "      <td>7</td>\n",
       "    </tr>\n",
       "    <tr>\n",
       "      <th>96</th>\n",
       "      <td>2020</td>\n",
       "      <td>ene</td>\n",
       "      <td>11</td>\n",
       "    </tr>\n",
       "    <tr>\n",
       "      <th>108</th>\n",
       "      <td>2021</td>\n",
       "      <td>ene</td>\n",
       "      <td>14</td>\n",
       "    </tr>\n",
       "    <tr>\n",
       "      <th>120</th>\n",
       "      <td>2022</td>\n",
       "      <td>ene</td>\n",
       "      <td>8</td>\n",
       "    </tr>\n",
       "    <tr>\n",
       "      <th>132</th>\n",
       "      <td>2023</td>\n",
       "      <td>ene</td>\n",
       "      <td>6</td>\n",
       "    </tr>\n",
       "  </tbody>\n",
       "</table>\n",
       "</div>"
      ],
      "text/plain": [
       "     Year month  events\n",
       "0    2012   ene       6\n",
       "12   2013   ene      24\n",
       "24   2014   ene      11\n",
       "36   2015   ene      24\n",
       "48   2016   ene       7\n",
       "60   2017   ene      17\n",
       "72   2018   ene      13\n",
       "84   2019   ene       7\n",
       "96   2020   ene      11\n",
       "108  2021   ene      14\n",
       "120  2022   ene       8\n",
       "132  2023   ene       6"
      ]
     },
     "execution_count": 39,
     "metadata": {},
     "output_type": "execute_result"
    }
   ],
   "source": [
    "month_e = month_df.query(\"month == 'ene'\")\n",
    "month_e"
   ]
  },
  {
   "cell_type": "code",
   "execution_count": 56,
   "metadata": {},
   "outputs": [
    {
     "data": {
      "text/plain": [
       "<seaborn.axisgrid.FacetGrid at 0x137fb8ed0>"
      ]
     },
     "execution_count": 56,
     "metadata": {},
     "output_type": "execute_result"
    },
    {
     "data": {
      "image/png": "[encoded data removed]",
      "text/plain": [
       "<Figure size 2000x1500 with 12 Axes>"
      ]
     },
     "metadata": {},
     "output_type": "display_data"
    }
   ],
   "source": [
    "# Eventos por mes visualizado en meses\n",
    "month_e = month_df.query(\"month == 'ene'\")\n",
    "month_e\n",
    "sns.set(font_scale = 1)\n",
    "by_month = sns.catplot(x=\"Year\",\n",
    "            y=\"events\",\n",
    "            col=\"month\",\n",
    "            col_wrap=4,\n",
    "            data=month_df,\n",
    "            kind=\"bar\",\n",
    "            hue= \"month\",dodge=False,sharex=False).set(ylabel='Events');\n",
    "by_month.tight_layout()"
   ]
  },
  {
   "cell_type": "markdown",
   "metadata": {},
   "source": [
    "## Datos estdísticos de los eventos"
   ]
  },
  {
   "cell_type": "code",
   "execution_count": 15,
   "metadata": {},
   "outputs": [
    {
     "data": {
      "application/vnd.plotly.v1+json": {
       "config": {
        "plotlyServerURL": "https://plot.ly"
       },
       "data": [
        {
         "alignmentgroup": "True",
         "hovertemplate": "Eventos=%{y}<extra></extra>",
         "legendgroup": "",
         "marker": {
          "color": "#636efa"
         },
         "name": "",
         "notched": false,
         "offsetgroup": "",
         "orientation": "v",
         "showlegend": false,
         "type": "box",
         "x0": " ",
         "xaxis": "x",
         "y": [
          412,
          426,
          391,
          395,
          371,
          354,
          362,
          375,
          346,
          358,
          321
         ],
         "y0": " ",
         "yaxis": "y"
        }
       ],
       "layout": {
        "boxmode": "group",
        "legend": {
         "tracegroupgap": 0
        },
        "margin": {
         "t": 60
        },
        "template": {
         "data": {
          "bar": [
           {
            "error_x": {
             "color": "#2a3f5f"
            },
            "error_y": {
             "color": "#2a3f5f"
            },
            "marker": {
             "line": {
              "color": "#E5ECF6",
              "width": 0.5
             },
             "pattern": {
              "fillmode": "overlay",
              "size": 10,
              "solidity": 0.2
             }
            },
            "type": "bar"
           }
          ],
          "barpolar": [
           {
            "marker": {
             "line": {
              "color": "#E5ECF6",
              "width": 0.5
             },
             "pattern": {
              "fillmode": "overlay",
              "size": 10,
              "solidity": 0.2
             }
            },
            "type": "barpolar"
           }
          ],
          "carpet": [
           {
            "aaxis": {
             "endlinecolor": "#2a3f5f",
             "gridcolor": "white",
             "linecolor": "white",
             "minorgridcolor": "white",
             "startlinecolor": "#2a3f5f"
            },
            "baxis": {
             "endlinecolor": "#2a3f5f",
             "gridcolor": "white",
             "linecolor": "white",
             "minorgridcolor": "white",
             "startlinecolor": "#2a3f5f"
            },
            "type": "carpet"
           }
          ],
          "choropleth": [
           {
            "colorbar": {
             "outlinewidth": 0,
             "ticks": ""
            },
            "type": "choropleth"
           }
          ],
          "contour": [
           {
            "colorbar": {
             "outlinewidth": 0,
             "ticks": ""
            },
            "colorscale": [
             [
              0,
              "#0d0887"
             ],
             [
              0.1111111111111111,
              "#46039f"
             ],
             [
              0.2222222222222222,
              "#7201a8"
             ],
             [
              0.3333333333333333,
              "#9c179e"
             ],
             [
              0.4444444444444444,
              "#bd3786"
             ],
             [
              0.5555555555555556,
              "#d8576b"
             ],
             [
              0.6666666666666666,
              "#ed7953"
             ],
             [
              0.7777777777777778,
              "#fb9f3a"
             ],
             [
              0.8888888888888888,
              "#fdca26"
             ],
             [
              1,
              "#f0f921"
             ]
            ],
            "type": "contour"
           }
          ],
          "contourcarpet": [
           {
            "colorbar": {
             "outlinewidth": 0,
             "ticks": ""
            },
            "type": "contourcarpet"
           }
          ],
          "heatmap": [
           {
            "colorbar": {
             "outlinewidth": 0,
             "ticks": ""
            },
            "colorscale": [
             [
              0,
              "#0d0887"
             ],
             [
              0.1111111111111111,
              "#46039f"
             ],
             [
              0.2222222222222222,
              "#7201a8"
             ],
             [
              0.3333333333333333,
              "#9c179e"
             ],
             [
              0.4444444444444444,
              "#bd3786"
             ],
             [
              0.5555555555555556,
              "#d8576b"
             ],
             [
              0.6666666666666666,
              "#ed7953"
             ],
             [
              0.7777777777777778,
              "#fb9f3a"
             ],
             [
              0.8888888888888888,
              "#fdca26"
             ],
             [
              1,
              "#f0f921"
             ]
            ],
            "type": "heatmap"
           }
          ],
          "heatmapgl": [
           {
            "colorbar": {
             "outlinewidth": 0,
             "ticks": ""
            },
            "colorscale": [
             [
              0,
              "#0d0887"
             ],
             [
              0.1111111111111111,
              "#46039f"
             ],
             [
              0.2222222222222222,
              "#7201a8"
             ],
             [
              0.3333333333333333,
              "#9c179e"
             ],
             [
              0.4444444444444444,
              "#bd3786"
             ],
             [
              0.5555555555555556,
              "#d8576b"
             ],
             [
              0.6666666666666666,
              "#ed7953"
             ],
             [
              0.7777777777777778,
              "#fb9f3a"
             ],
             [
              0.8888888888888888,
              "#fdca26"
             ],
             [
              1,
              "#f0f921"
             ]
            ],
            "type": "heatmapgl"
           }
          ],
          "histogram": [
           {
            "marker": {
             "pattern": {
              "fillmode": "overlay",
              "size": 10,
              "solidity": 0.2
             }
            },
            "type": "histogram"
           }
          ],
          "histogram2d": [
           {
            "colorbar": {
             "outlinewidth": 0,
             "ticks": ""
            },
            "colorscale": [
             [
              0,
              "#0d0887"
             ],
             [
              0.1111111111111111,
              "#46039f"
             ],
             [
              0.2222222222222222,
              "#7201a8"
             ],
             [
              0.3333333333333333,
              "#9c179e"
             ],
             [
              0.4444444444444444,
              "#bd3786"
             ],
             [
              0.5555555555555556,
              "#d8576b"
             ],
             [
              0.6666666666666666,
              "#ed7953"
             ],
             [
              0.7777777777777778,
              "#fb9f3a"
             ],
             [
              0.8888888888888888,
              "#fdca26"
             ],
             [
              1,
              "#f0f921"
             ]
            ],
            "type": "histogram2d"
           }
          ],
          "histogram2dcontour": [
           {
            "colorbar": {
             "outlinewidth": 0,
             "ticks": ""
            },
            "colorscale": [
             [
              0,
              "#0d0887"
             ],
             [
              0.1111111111111111,
              "#46039f"
             ],
             [
              0.2222222222222222,
              "#7201a8"
             ],
             [
              0.3333333333333333,
              "#9c179e"
             ],
             [
              0.4444444444444444,
              "#bd3786"
             ],
             [
              0.5555555555555556,
              "#d8576b"
             ],
             [
              0.6666666666666666,
              "#ed7953"
             ],
             [
              0.7777777777777778,
              "#fb9f3a"
             ],
             [
              0.8888888888888888,
              "#fdca26"
             ],
             [
              1,
              "#f0f921"
             ]
            ],
            "type": "histogram2dcontour"
           }
          ],
          "mesh3d": [
           {
            "colorbar": {
             "outlinewidth": 0,
             "ticks": ""
            },
            "type": "mesh3d"
           }
          ],
          "parcoords": [
           {
            "line": {
             "colorbar": {
              "outlinewidth": 0,
              "ticks": ""
             }
            },
            "type": "parcoords"
           }
          ],
          "pie": [
           {
            "automargin": true,
            "type": "pie"
           }
          ],
          "scatter": [
           {
            "fillpattern": {
             "fillmode": "overlay",
             "size": 10,
             "solidity": 0.2
            },
            "type": "scatter"
           }
          ],
          "scatter3d": [
           {
            "line": {
             "colorbar": {
              "outlinewidth": 0,
              "ticks": ""
             }
            },
            "marker": {
             "colorbar": {
              "outlinewidth": 0,
              "ticks": ""
             }
            },
            "type": "scatter3d"
           }
          ],
          "scattercarpet": [
           {
            "marker": {
             "colorbar": {
              "outlinewidth": 0,
              "ticks": ""
             }
            },
            "type": "scattercarpet"
           }
          ],
          "scattergeo": [
           {
            "marker": {
             "colorbar": {
              "outlinewidth": 0,
              "ticks": ""
             }
            },
            "type": "scattergeo"
           }
          ],
          "scattergl": [
           {
            "marker": {
             "colorbar": {
              "outlinewidth": 0,
              "ticks": ""
             }
            },
            "type": "scattergl"
           }
          ],
          "scattermapbox": [
           {
            "marker": {
             "colorbar": {
              "outlinewidth": 0,
              "ticks": ""
             }
            },
            "type": "scattermapbox"
           }
          ],
          "scatterpolar": [
           {
            "marker": {
             "colorbar": {
              "outlinewidth": 0,
              "ticks": ""
             }
            },
            "type": "scatterpolar"
           }
          ],
          "scatterpolargl": [
           {
            "marker": {
             "colorbar": {
              "outlinewidth": 0,
              "ticks": ""
             }
            },
            "type": "scatterpolargl"
           }
          ],
          "scatterternary": [
           {
            "marker": {
             "colorbar": {
              "outlinewidth": 0,
              "ticks": ""
             }
            },
            "type": "scatterternary"
           }
          ],
          "surface": [
           {
            "colorbar": {
             "outlinewidth": 0,
             "ticks": ""
            },
            "colorscale": [
             [
              0,
              "#0d0887"
             ],
             [
              0.1111111111111111,
              "#46039f"
             ],
             [
              0.2222222222222222,
              "#7201a8"
             ],
             [
              0.3333333333333333,
              "#9c179e"
             ],
             [
              0.4444444444444444,
              "#bd3786"
             ],
             [
              0.5555555555555556,
              "#d8576b"
             ],
             [
              0.6666666666666666,
              "#ed7953"
             ],
             [
              0.7777777777777778,
              "#fb9f3a"
             ],
             [
              0.8888888888888888,
              "#fdca26"
             ],
             [
              1,
              "#f0f921"
             ]
            ],
            "type": "surface"
           }
          ],
          "table": [
           {
            "cells": {
             "fill": {
              "color": "#EBF0F8"
             },
             "line": {
              "color": "white"
             }
            },
            "header": {
             "fill": {
              "color": "#C8D4E3"
             },
             "line": {
              "color": "white"
             }
            },
            "type": "table"
           }
          ]
         },
         "layout": {
          "annotationdefaults": {
           "arrowcolor": "#2a3f5f",
           "arrowhead": 0,
           "arrowwidth": 1
          },
          "autotypenumbers": "strict",
          "coloraxis": {
           "colorbar": {
            "outlinewidth": 0,
            "ticks": ""
           }
          },
          "colorscale": {
           "diverging": [
            [
             0,
             "#8e0152"
            ],
            [
             0.1,
             "#c51b7d"
            ],
            [
             0.2,
             "#de77ae"
            ],
            [
             0.3,
             "#f1b6da"
            ],
            [
             0.4,
             "#fde0ef"
            ],
            [
             0.5,
             "#f7f7f7"
            ],
            [
             0.6,
             "#e6f5d0"
            ],
            [
             0.7,
             "#b8e186"
            ],
            [
             0.8,
             "#7fbc41"
            ],
            [
             0.9,
             "#4d9221"
            ],
            [
             1,
             "#276419"
            ]
           ],
           "sequential": [
            [
             0,
             "#0d0887"
            ],
            [
             0.1111111111111111,
             "#46039f"
            ],
            [
             0.2222222222222222,
             "#7201a8"
            ],
            [
             0.3333333333333333,
             "#9c179e"
            ],
            [
             0.4444444444444444,
             "#bd3786"
            ],
            [
             0.5555555555555556,
             "#d8576b"
            ],
            [
             0.6666666666666666,
             "#ed7953"
            ],
            [
             0.7777777777777778,
             "#fb9f3a"
            ],
            [
             0.8888888888888888,
             "#fdca26"
            ],
            [
             1,
             "#f0f921"
            ]
           ],
           "sequentialminus": [
            [
             0,
             "#0d0887"
            ],
            [
             0.1111111111111111,
             "#46039f"
            ],
            [
             0.2222222222222222,
             "#7201a8"
            ],
            [
             0.3333333333333333,
             "#9c179e"
            ],
            [
             0.4444444444444444,
             "#bd3786"
            ],
            [
             0.5555555555555556,
             "#d8576b"
            ],
            [
             0.6666666666666666,
             "#ed7953"
            ],
            [
             0.7777777777777778,
             "#fb9f3a"
            ],
            [
             0.8888888888888888,
             "#fdca26"
            ],
            [
             1,
             "#f0f921"
            ]
           ]
          },
          "colorway": [
           "#636efa",
           "#EF553B",
           "#00cc96",
           "#ab63fa",
           "#FFA15A",
           "#19d3f3",
           "#FF6692",
           "#B6E880",
           "#FF97FF",
           "#FECB52"
          ],
          "font": {
           "color": "#2a3f5f"
          },
          "geo": {
           "bgcolor": "white",
           "lakecolor": "white",
           "landcolor": "#E5ECF6",
           "showlakes": true,
           "showland": true,
           "subunitcolor": "white"
          },
          "hoverlabel": {
           "align": "left"
          },
          "hovermode": "closest",
          "mapbox": {
           "style": "light"
          },
          "paper_bgcolor": "white",
          "plot_bgcolor": "#E5ECF6",
          "polar": {
           "angularaxis": {
            "gridcolor": "white",
            "linecolor": "white",
            "ticks": ""
           },
           "bgcolor": "#E5ECF6",
           "radialaxis": {
            "gridcolor": "white",
            "linecolor": "white",
            "ticks": ""
           }
          },
          "scene": {
           "xaxis": {
            "backgroundcolor": "#E5ECF6",
            "gridcolor": "white",
            "gridwidth": 2,
            "linecolor": "white",
            "showbackground": true,
            "ticks": "",
            "zerolinecolor": "white"
           },
           "yaxis": {
            "backgroundcolor": "#E5ECF6",
            "gridcolor": "white",
            "gridwidth": 2,
            "linecolor": "white",
            "showbackground": true,
            "ticks": "",
            "zerolinecolor": "white"
           },
           "zaxis": {
            "backgroundcolor": "#E5ECF6",
            "gridcolor": "white",
            "gridwidth": 2,
            "linecolor": "white",
            "showbackground": true,
            "ticks": "",
            "zerolinecolor": "white"
           }
          },
          "shapedefaults": {
           "line": {
            "color": "#2a3f5f"
           }
          },
          "ternary": {
           "aaxis": {
            "gridcolor": "white",
            "linecolor": "white",
            "ticks": ""
           },
           "baxis": {
            "gridcolor": "white",
            "linecolor": "white",
            "ticks": ""
           },
           "bgcolor": "#E5ECF6",
           "caxis": {
            "gridcolor": "white",
            "linecolor": "white",
            "ticks": ""
           }
          },
          "title": {
           "x": 0.05
          },
          "xaxis": {
           "automargin": true,
           "gridcolor": "white",
           "linecolor": "white",
           "ticks": "",
           "title": {
            "standoff": 15
           },
           "zerolinecolor": "white",
           "zerolinewidth": 2
          },
          "yaxis": {
           "automargin": true,
           "gridcolor": "white",
           "linecolor": "white",
           "ticks": "",
           "title": {
            "standoff": 15
           },
           "zerolinecolor": "white",
           "zerolinewidth": 2
          }
         }
        },
        "xaxis": {
         "anchor": "y",
         "domain": [
          0,
          1
         ]
        },
        "yaxis": {
         "anchor": "x",
         "domain": [
          0,
          1
         ],
         "title": {
          "text": "Eventos"
         }
        }
       }
      }
     },
     "metadata": {},
     "output_type": "display_data"
    },
    {
     "data": {
      "text/html": [
       "<div>\n",
       "<style scoped>\n",
       "    .dataframe tbody tr th:only-of-type {\n",
       "        vertical-align: middle;\n",
       "    }\n",
       "\n",
       "    .dataframe tbody tr th {\n",
       "        vertical-align: top;\n",
       "    }\n",
       "\n",
       "    .dataframe thead th {\n",
       "        text-align: right;\n",
       "    }\n",
       "</style>\n",
       "<table border=\"1\" class=\"dataframe\">\n",
       "  <thead>\n",
       "    <tr style=\"text-align: right;\">\n",
       "      <th></th>\n",
       "      <th>Eventos</th>\n",
       "    </tr>\n",
       "  </thead>\n",
       "  <tbody>\n",
       "    <tr>\n",
       "      <th>count</th>\n",
       "      <td>11.000000</td>\n",
       "    </tr>\n",
       "    <tr>\n",
       "      <th>mean</th>\n",
       "      <td>373.727273</td>\n",
       "    </tr>\n",
       "    <tr>\n",
       "      <th>std</th>\n",
       "      <td>30.463391</td>\n",
       "    </tr>\n",
       "    <tr>\n",
       "      <th>min</th>\n",
       "      <td>321.000000</td>\n",
       "    </tr>\n",
       "    <tr>\n",
       "      <th>25%</th>\n",
       "      <td>356.000000</td>\n",
       "    </tr>\n",
       "    <tr>\n",
       "      <th>50%</th>\n",
       "      <td>371.000000</td>\n",
       "    </tr>\n",
       "    <tr>\n",
       "      <th>75%</th>\n",
       "      <td>393.000000</td>\n",
       "    </tr>\n",
       "    <tr>\n",
       "      <th>max</th>\n",
       "      <td>426.000000</td>\n",
       "    </tr>\n",
       "  </tbody>\n",
       "</table>\n",
       "</div>"
      ],
      "text/plain": [
       "          Eventos\n",
       "count   11.000000\n",
       "mean   373.727273\n",
       "std     30.463391\n",
       "min    321.000000\n",
       "25%    356.000000\n",
       "50%    371.000000\n",
       "75%    393.000000\n",
       "max    426.000000"
      ]
     },
     "execution_count": 15,
     "metadata": {},
     "output_type": "execute_result"
    }
   ],
   "source": [
    "# Datos por año (todos los los años excepto 2023)\n",
    "fig = px.box(eventos_df[0:-1], y=\"Eventos\")\n",
    "fig.show()\n",
    "eventos_df[0:-1].describe()"
   ]
  },
  {
   "cell_type": "code",
   "execution_count": 18,
   "metadata": {},
   "outputs": [
    {
     "data": {
      "application/vnd.plotly.v1+json": {
       "config": {
        "plotlyServerURL": "https://plot.ly"
       },
       "data": [
        {
         "alignmentgroup": "True",
         "hovertemplate": "events=%{y}<extra></extra>",
         "legendgroup": "",
         "marker": {
          "color": "#636efa"
         },
         "name": "",
         "notched": false,
         "offsetgroup": "",
         "orientation": "v",
         "showlegend": false,
         "type": "box",
         "x0": " ",
         "xaxis": "x",
         "y": [
          6,
          16,
          30,
          51,
          47,
          59,
          33,
          12,
          32,
          43,
          49,
          34,
          24,
          33,
          46,
          44,
          42,
          49,
          22,
          12,
          24,
          50,
          44,
          36,
          11,
          44,
          42,
          40,
          52,
          35,
          13,
          1,
          28,
          50,
          36,
          39,
          24,
          40,
          39,
          51,
          49,
          31,
          21,
          10,
          20,
          46,
          36,
          28,
          7,
          29,
          31,
          39,
          50,
          43,
          20,
          7,
          21,
          35,
          48,
          41,
          17,
          35,
          39,
          46,
          34,
          40,
          18,
          9,
          21,
          27,
          41,
          27,
          13,
          34,
          33,
          43,
          59,
          38,
          16,
          8,
          23,
          36,
          33,
          26,
          7,
          31,
          35,
          31,
          45,
          51,
          17,
          8,
          20,
          58,
          45,
          27,
          11,
          30,
          41,
          19,
          34,
          42,
          23,
          14,
          39,
          34,
          40,
          19,
          14,
          19,
          33,
          43,
          52,
          26,
          14,
          9,
          35,
          45,
          47,
          21,
          8,
          24,
          56,
          33,
          37,
          14,
          16,
          6,
          27,
          48,
          33,
          19,
          6,
          22,
          16,
          4,
          21,
          23,
          9,
          0,
          0,
          0,
          0,
          0
         ],
         "y0": " ",
         "yaxis": "y"
        }
       ],
       "layout": {
        "boxmode": "group",
        "legend": {
         "tracegroupgap": 0
        },
        "margin": {
         "t": 60
        },
        "template": {
         "data": {
          "bar": [
           {
            "error_x": {
             "color": "#2a3f5f"
            },
            "error_y": {
             "color": "#2a3f5f"
            },
            "marker": {
             "line": {
              "color": "#E5ECF6",
              "width": 0.5
             },
             "pattern": {
              "fillmode": "overlay",
              "size": 10,
              "solidity": 0.2
             }
            },
            "type": "bar"
           }
          ],
          "barpolar": [
           {
            "marker": {
             "line": {
              "color": "#E5ECF6",
              "width": 0.5
             },
             "pattern": {
              "fillmode": "overlay",
              "size": 10,
              "solidity": 0.2
             }
            },
            "type": "barpolar"
           }
          ],
          "carpet": [
           {
            "aaxis": {
             "endlinecolor": "#2a3f5f",
             "gridcolor": "white",
             "linecolor": "white",
             "minorgridcolor": "white",
             "startlinecolor": "#2a3f5f"
            },
            "baxis": {
             "endlinecolor": "#2a3f5f",
             "gridcolor": "white",
             "linecolor": "white",
             "minorgridcolor": "white",
             "startlinecolor": "#2a3f5f"
            },
            "type": "carpet"
           }
          ],
          "choropleth": [
           {
            "colorbar": {
             "outlinewidth": 0,
             "ticks": ""
            },
            "type": "choropleth"
           }
          ],
          "contour": [
           {
            "colorbar": {
             "outlinewidth": 0,
             "ticks": ""
            },
            "colorscale": [
             [
              0,
              "#0d0887"
             ],
             [
              0.1111111111111111,
              "#46039f"
             ],
             [
              0.2222222222222222,
              "#7201a8"
             ],
             [
              0.3333333333333333,
              "#9c179e"
             ],
             [
              0.4444444444444444,
              "#bd3786"
             ],
             [
              0.5555555555555556,
              "#d8576b"
             ],
             [
              0.6666666666666666,
              "#ed7953"
             ],
             [
              0.7777777777777778,
              "#fb9f3a"
             ],
             [
              0.8888888888888888,
              "#fdca26"
             ],
             [
              1,
              "#f0f921"
             ]
            ],
            "type": "contour"
           }
          ],
          "contourcarpet": [
           {
            "colorbar": {
             "outlinewidth": 0,
             "ticks": ""
            },
            "type": "contourcarpet"
           }
          ],
          "heatmap": [
           {
            "colorbar": {
             "outlinewidth": 0,
             "ticks": ""
            },
            "colorscale": [
             [
              0,
              "#0d0887"
             ],
             [
              0.1111111111111111,
              "#46039f"
             ],
             [
              0.2222222222222222,
              "#7201a8"
             ],
             [
              0.3333333333333333,
              "#9c179e"
             ],
             [
              0.4444444444444444,
              "#bd3786"
             ],
             [
              0.5555555555555556,
              "#d8576b"
             ],
             [
              0.6666666666666666,
              "#ed7953"
             ],
             [
              0.7777777777777778,
              "#fb9f3a"
             ],
             [
              0.8888888888888888,
              "#fdca26"
             ],
             [
              1,
              "#f0f921"
             ]
            ],
            "type": "heatmap"
           }
          ],
          "heatmapgl": [
           {
            "colorbar": {
             "outlinewidth": 0,
             "ticks": ""
            },
            "colorscale": [
             [
              0,
              "#0d0887"
             ],
             [
              0.1111111111111111,
              "#46039f"
             ],
             [
              0.2222222222222222,
              "#7201a8"
             ],
             [
              0.3333333333333333,
              "#9c179e"
             ],
             [
              0.4444444444444444,
              "#bd3786"
             ],
             [
              0.5555555555555556,
              "#d8576b"
             ],
             [
              0.6666666666666666,
              "#ed7953"
             ],
             [
              0.7777777777777778,
              "#fb9f3a"
             ],
             [
              0.8888888888888888,
              "#fdca26"
             ],
             [
              1,
              "#f0f921"
             ]
            ],
            "type": "heatmapgl"
           }
          ],
          "histogram": [
           {
            "marker": {
             "pattern": {
              "fillmode": "overlay",
              "size": 10,
              "solidity": 0.2
             }
            },
            "type": "histogram"
           }
          ],
          "histogram2d": [
           {
            "colorbar": {
             "outlinewidth": 0,
             "ticks": ""
            },
            "colorscale": [
             [
              0,
              "#0d0887"
             ],
             [
              0.1111111111111111,
              "#46039f"
             ],
             [
              0.2222222222222222,
              "#7201a8"
             ],
             [
              0.3333333333333333,
              "#9c179e"
             ],
             [
              0.4444444444444444,
              "#bd3786"
             ],
             [
              0.5555555555555556,
              "#d8576b"
             ],
             [
              0.6666666666666666,
              "#ed7953"
             ],
             [
              0.7777777777777778,
              "#fb9f3a"
             ],
             [
              0.8888888888888888,
              "#fdca26"
             ],
             [
              1,
              "#f0f921"
             ]
            ],
            "type": "histogram2d"
           }
          ],
          "histogram2dcontour": [
           {
            "colorbar": {
             "outlinewidth": 0,
             "ticks": ""
            },
            "colorscale": [
             [
              0,
              "#0d0887"
             ],
             [
              0.1111111111111111,
              "#46039f"
             ],
             [
              0.2222222222222222,
              "#7201a8"
             ],
             [
              0.3333333333333333,
              "#9c179e"
             ],
             [
              0.4444444444444444,
              "#bd3786"
             ],
             [
              0.5555555555555556,
              "#d8576b"
             ],
             [
              0.6666666666666666,
              "#ed7953"
             ],
             [
              0.7777777777777778,
              "#fb9f3a"
             ],
             [
              0.8888888888888888,
              "#fdca26"
             ],
             [
              1,
              "#f0f921"
             ]
            ],
            "type": "histogram2dcontour"
           }
          ],
          "mesh3d": [
           {
            "colorbar": {
             "outlinewidth": 0,
             "ticks": ""
            },
            "type": "mesh3d"
           }
          ],
          "parcoords": [
           {
            "line": {
             "colorbar": {
              "outlinewidth": 0,
              "ticks": ""
             }
            },
            "type": "parcoords"
           }
          ],
          "pie": [
           {
            "automargin": true,
            "type": "pie"
           }
          ],
          "scatter": [
           {
            "fillpattern": {
             "fillmode": "overlay",
             "size": 10,
             "solidity": 0.2
            },
            "type": "scatter"
           }
          ],
          "scatter3d": [
           {
            "line": {
             "colorbar": {
              "outlinewidth": 0,
              "ticks": ""
             }
            },
            "marker": {
             "colorbar": {
              "outlinewidth": 0,
              "ticks": ""
             }
            },
            "type": "scatter3d"
           }
          ],
          "scattercarpet": [
           {
            "marker": {
             "colorbar": {
              "outlinewidth": 0,
              "ticks": ""
             }
            },
            "type": "scattercarpet"
           }
          ],
          "scattergeo": [
           {
            "marker": {
             "colorbar": {
              "outlinewidth": 0,
              "ticks": ""
             }
            },
            "type": "scattergeo"
           }
          ],
          "scattergl": [
           {
            "marker": {
             "colorbar": {
              "outlinewidth": 0,
              "ticks": ""
             }
            },
            "type": "scattergl"
           }
          ],
          "scattermapbox": [
           {
            "marker": {
             "colorbar": {
              "outlinewidth": 0,
              "ticks": ""
             }
            },
            "type": "scattermapbox"
           }
          ],
          "scatterpolar": [
           {
            "marker": {
             "colorbar": {
              "outlinewidth": 0,
              "ticks": ""
             }
            },
            "type": "scatterpolar"
           }
          ],
          "scatterpolargl": [
           {
            "marker": {
             "colorbar": {
              "outlinewidth": 0,
              "ticks": ""
             }
            },
            "type": "scatterpolargl"
           }
          ],
          "scatterternary": [
           {
            "marker": {
             "colorbar": {
              "outlinewidth": 0,
              "ticks": ""
             }
            },
            "type": "scatterternary"
           }
          ],
          "surface": [
           {
            "colorbar": {
             "outlinewidth": 0,
             "ticks": ""
            },
            "colorscale": [
             [
              0,
              "#0d0887"
             ],
             [
              0.1111111111111111,
              "#46039f"
             ],
             [
              0.2222222222222222,
              "#7201a8"
             ],
             [
              0.3333333333333333,
              "#9c179e"
             ],
             [
              0.4444444444444444,
              "#bd3786"
             ],
             [
              0.5555555555555556,
              "#d8576b"
             ],
             [
              0.6666666666666666,
              "#ed7953"
             ],
             [
              0.7777777777777778,
              "#fb9f3a"
             ],
             [
              0.8888888888888888,
              "#fdca26"
             ],
             [
              1,
              "#f0f921"
             ]
            ],
            "type": "surface"
           }
          ],
          "table": [
           {
            "cells": {
             "fill": {
              "color": "#EBF0F8"
             },
             "line": {
              "color": "white"
             }
            },
            "header": {
             "fill": {
              "color": "#C8D4E3"
             },
             "line": {
              "color": "white"
             }
            },
            "type": "table"
           }
          ]
         },
         "layout": {
          "annotationdefaults": {
           "arrowcolor": "#2a3f5f",
           "arrowhead": 0,
           "arrowwidth": 1
          },
          "autotypenumbers": "strict",
          "coloraxis": {
           "colorbar": {
            "outlinewidth": 0,
            "ticks": ""
           }
          },
          "colorscale": {
           "diverging": [
            [
             0,
             "#8e0152"
            ],
            [
             0.1,
             "#c51b7d"
            ],
            [
             0.2,
             "#de77ae"
            ],
            [
             0.3,
             "#f1b6da"
            ],
            [
             0.4,
             "#fde0ef"
            ],
            [
             0.5,
             "#f7f7f7"
            ],
            [
             0.6,
             "#e6f5d0"
            ],
            [
             0.7,
             "#b8e186"
            ],
            [
             0.8,
             "#7fbc41"
            ],
            [
             0.9,
             "#4d9221"
            ],
            [
             1,
             "#276419"
            ]
           ],
           "sequential": [
            [
             0,
             "#0d0887"
            ],
            [
             0.1111111111111111,
             "#46039f"
            ],
            [
             0.2222222222222222,
             "#7201a8"
            ],
            [
             0.3333333333333333,
             "#9c179e"
            ],
            [
             0.4444444444444444,
             "#bd3786"
            ],
            [
             0.5555555555555556,
             "#d8576b"
            ],
            [
             0.6666666666666666,
             "#ed7953"
            ],
            [
             0.7777777777777778,
             "#fb9f3a"
            ],
            [
             0.8888888888888888,
             "#fdca26"
            ],
            [
             1,
             "#f0f921"
            ]
           ],
           "sequentialminus": [
            [
             0,
             "#0d0887"
            ],
            [
             0.1111111111111111,
             "#46039f"
            ],
            [
             0.2222222222222222,
             "#7201a8"
            ],
            [
             0.3333333333333333,
             "#9c179e"
            ],
            [
             0.4444444444444444,
             "#bd3786"
            ],
            [
             0.5555555555555556,
             "#d8576b"
            ],
            [
             0.6666666666666666,
             "#ed7953"
            ],
            [
             0.7777777777777778,
             "#fb9f3a"
            ],
            [
             0.8888888888888888,
             "#fdca26"
            ],
            [
             1,
             "#f0f921"
            ]
           ]
          },
          "colorway": [
           "#636efa",
           "#EF553B",
           "#00cc96",
           "#ab63fa",
           "#FFA15A",
           "#19d3f3",
           "#FF6692",
           "#B6E880",
           "#FF97FF",
           "#FECB52"
          ],
          "font": {
           "color": "#2a3f5f"
          },
          "geo": {
           "bgcolor": "white",
           "lakecolor": "white",
           "landcolor": "#E5ECF6",
           "showlakes": true,
           "showland": true,
           "subunitcolor": "white"
          },
          "hoverlabel": {
           "align": "left"
          },
          "hovermode": "closest",
          "mapbox": {
           "style": "light"
          },
          "paper_bgcolor": "white",
          "plot_bgcolor": "#E5ECF6",
          "polar": {
           "angularaxis": {
            "gridcolor": "white",
            "linecolor": "white",
            "ticks": ""
           },
           "bgcolor": "#E5ECF6",
           "radialaxis": {
            "gridcolor": "white",
            "linecolor": "white",
            "ticks": ""
           }
          },
          "scene": {
           "xaxis": {
            "backgroundcolor": "#E5ECF6",
            "gridcolor": "white",
            "gridwidth": 2,
            "linecolor": "white",
            "showbackground": true,
            "ticks": "",
            "zerolinecolor": "white"
           },
           "yaxis": {
            "backgroundcolor": "#E5ECF6",
            "gridcolor": "white",
            "gridwidth": 2,
            "linecolor": "white",
            "showbackground": true,
            "ticks": "",
            "zerolinecolor": "white"
           },
           "zaxis": {
            "backgroundcolor": "#E5ECF6",
            "gridcolor": "white",
            "gridwidth": 2,
            "linecolor": "white",
            "showbackground": true,
            "ticks": "",
            "zerolinecolor": "white"
           }
          },
          "shapedefaults": {
           "line": {
            "color": "#2a3f5f"
           }
          },
          "ternary": {
           "aaxis": {
            "gridcolor": "white",
            "linecolor": "white",
            "ticks": ""
           },
           "baxis": {
            "gridcolor": "white",
            "linecolor": "white",
            "ticks": ""
           },
           "bgcolor": "#E5ECF6",
           "caxis": {
            "gridcolor": "white",
            "linecolor": "white",
            "ticks": ""
           }
          },
          "title": {
           "x": 0.05
          },
          "xaxis": {
           "automargin": true,
           "gridcolor": "white",
           "linecolor": "white",
           "ticks": "",
           "title": {
            "standoff": 15
           },
           "zerolinecolor": "white",
           "zerolinewidth": 2
          },
          "yaxis": {
           "automargin": true,
           "gridcolor": "white",
           "linecolor": "white",
           "ticks": "",
           "title": {
            "standoff": 15
           },
           "zerolinecolor": "white",
           "zerolinewidth": 2
          }
         }
        },
        "xaxis": {
         "anchor": "y",
         "domain": [
          0,
          1
         ]
        },
        "yaxis": {
         "anchor": "x",
         "domain": [
          0,
          1
         ],
         "title": {
          "text": "events"
         }
        }
       }
      }
     },
     "metadata": {},
     "output_type": "display_data"
    },
    {
     "data": {
      "text/html": [
       "<div>\n",
       "<style scoped>\n",
       "    .dataframe tbody tr th:only-of-type {\n",
       "        vertical-align: middle;\n",
       "    }\n",
       "\n",
       "    .dataframe tbody tr th {\n",
       "        vertical-align: top;\n",
       "    }\n",
       "\n",
       "    .dataframe thead th {\n",
       "        text-align: right;\n",
       "    }\n",
       "</style>\n",
       "<table border=\"1\" class=\"dataframe\">\n",
       "  <thead>\n",
       "    <tr style=\"text-align: right;\">\n",
       "      <th></th>\n",
       "      <th>events</th>\n",
       "    </tr>\n",
       "  </thead>\n",
       "  <tbody>\n",
       "    <tr>\n",
       "      <th>count</th>\n",
       "      <td>144.00000</td>\n",
       "    </tr>\n",
       "    <tr>\n",
       "      <th>mean</th>\n",
       "      <td>29.25000</td>\n",
       "    </tr>\n",
       "    <tr>\n",
       "      <th>std</th>\n",
       "      <td>14.98974</td>\n",
       "    </tr>\n",
       "    <tr>\n",
       "      <th>min</th>\n",
       "      <td>0.00000</td>\n",
       "    </tr>\n",
       "    <tr>\n",
       "      <th>25%</th>\n",
       "      <td>17.75000</td>\n",
       "    </tr>\n",
       "    <tr>\n",
       "      <th>50%</th>\n",
       "      <td>31.00000</td>\n",
       "    </tr>\n",
       "    <tr>\n",
       "      <th>75%</th>\n",
       "      <td>41.00000</td>\n",
       "    </tr>\n",
       "    <tr>\n",
       "      <th>max</th>\n",
       "      <td>59.00000</td>\n",
       "    </tr>\n",
       "  </tbody>\n",
       "</table>\n",
       "</div>"
      ],
      "text/plain": [
       "          events\n",
       "count  144.00000\n",
       "mean    29.25000\n",
       "std     14.98974\n",
       "min      0.00000\n",
       "25%     17.75000\n",
       "50%     31.00000\n",
       "75%     41.00000\n",
       "max     59.00000"
      ]
     },
     "execution_count": 18,
     "metadata": {},
     "output_type": "execute_result"
    }
   ],
   "source": [
    "# Datos por mes\n",
    "fig = px.box(month_df, y=\"events\")\n",
    "fig.show()\n",
    "month_df[[\"events\"]].describe()"
   ]
  },
  {
   "cell_type": "markdown",
   "metadata": {},
   "source": [
    "# Visualización según las categorías"
   ]
  },
  {
   "cell_type": "code",
   "execution_count": 43,
   "metadata": {},
   "outputs": [
    {
     "data": {
      "text/html": [
       "<div>\n",
       "<style scoped>\n",
       "    .dataframe tbody tr th:only-of-type {\n",
       "        vertical-align: middle;\n",
       "    }\n",
       "\n",
       "    .dataframe tbody tr th {\n",
       "        vertical-align: top;\n",
       "    }\n",
       "\n",
       "    .dataframe thead th {\n",
       "        text-align: right;\n",
       "    }\n",
       "</style>\n",
       "<table border=\"1\" class=\"dataframe\">\n",
       "  <thead>\n",
       "    <tr style=\"text-align: right;\">\n",
       "      <th></th>\n",
       "      <th>title</th>\n",
       "      <th>artist</th>\n",
       "      <th>date</th>\n",
       "      <th>description</th>\n",
       "      <th>text</th>\n",
       "      <th>tags</th>\n",
       "      <th>group</th>\n",
       "      <th>Dirigido a</th>\n",
       "      <th>Ubicación</th>\n",
       "      <th>Duración</th>\n",
       "      <th>Precio</th>\n",
       "      <th>event</th>\n",
       "      <th>category</th>\n",
       "      <th>url</th>\n",
       "      <th>image</th>\n",
       "      <th>year</th>\n",
       "    </tr>\n",
       "  </thead>\n",
       "  <tbody>\n",
       "    <tr>\n",
       "      <th>0</th>\n",
       "      <td>Sonidos de barrio</td>\n",
       "      <td>Kleber Mendonça Filho</td>\n",
       "      <td>15 jul 2023</td>\n",
       "      <td>La película narra las realidades violentas ocu...</td>\n",
       "      <td>Sonidos de barrio, de Kleber Mendoça Filho. Br...</td>\n",
       "      <td>['#Audiovisuales']</td>\n",
       "      <td>La Terraza Magnética 2023. ¡Alucina, vecina!</td>\n",
       "      <td>Público general</td>\n",
       "      <td>Terraza</td>\n",
       "      <td>1 hora 59 minutos</td>\n",
       "      <td>4€</td>\n",
       "      <td>No details</td>\n",
       "      <td>['CINE']</td>\n",
       "      <td>https://www.lacasaencendida.es/cine/sonidos-de...</td>\n",
       "      <td>https://www.lacasaencendida.es/storage/14817/r...</td>\n",
       "      <td>2023</td>\n",
       "    </tr>\n",
       "    <tr>\n",
       "      <th>1</th>\n",
       "      <td>Cashu</td>\n",
       "      <td>No definido</td>\n",
       "      <td>14 jul 2023</td>\n",
       "      <td>Carolina Schutzer, alias DJ Cashu, es una de l...</td>\n",
       "      <td>En un intento de ocupar y descentralizar la es...</td>\n",
       "      <td>['#Música']</td>\n",
       "      <td>La Terraza Magnética 2023. ¡Alucina, vecina!</td>\n",
       "      <td>Público general</td>\n",
       "      <td>Terraza</td>\n",
       "      <td>1 hora</td>\n",
       "      <td>8€</td>\n",
       "      <td>Apertura de puertas a las 20:30 h.</td>\n",
       "      <td>['CONCIERTOS']</td>\n",
       "      <td>https://www.lacasaencendida.es/conciertos/cashu</td>\n",
       "      <td>https://www.lacasaencendida.es/storage/15099/r...</td>\n",
       "      <td>2023</td>\n",
       "    </tr>\n",
       "    <tr>\n",
       "      <th>2</th>\n",
       "      <td>El orden divino</td>\n",
       "      <td>Petra Biondina Volpe</td>\n",
       "      <td>13 jul 2023</td>\n",
       "      <td>En los años setenta, las mujeres no podían vot...</td>\n",
       "      <td>El orden divino, de Petra Biondina Volpe, Suiz...</td>\n",
       "      <td>['#Feminismos']</td>\n",
       "      <td>Gestos necesarios para cambiar el mundo</td>\n",
       "      <td>Público general</td>\n",
       "      <td>Sala Audiovisual</td>\n",
       "      <td>2 horas 30 minutos</td>\n",
       "      <td>4€</td>\n",
       "      <td>Coloquio con: \\nMarifé Santiago Bolaños, poeta...</td>\n",
       "      <td>['CINE', 'ENCUENTROS']</td>\n",
       "      <td>https://www.lacasaencendida.es/cine/el-orden-d...</td>\n",
       "      <td>https://www.lacasaencendida.es/storage/13824/r...</td>\n",
       "      <td>2023</td>\n",
       "    </tr>\n",
       "    <tr>\n",
       "      <th>3</th>\n",
       "      <td>Loving</td>\n",
       "      <td>Jeff Nichols</td>\n",
       "      <td>11 jul 2023</td>\n",
       "      <td>En la tercera sesión del ciclo 'Gestos necesar...</td>\n",
       "      <td>Loving, de Jeff Nichols, EEUU, 2016. 120 min. ...</td>\n",
       "      <td>['#Antirracismo / migración']</td>\n",
       "      <td>Gestos necesarios para cambiar el mundo</td>\n",
       "      <td>Público general</td>\n",
       "      <td>Sala Audiovisual</td>\n",
       "      <td>2 horas 30 minutos</td>\n",
       "      <td>4€</td>\n",
       "      <td>Coloquio con: \\nMoha Gerehou, periodista y exp...</td>\n",
       "      <td>['CINE', 'ENCUENTROS']</td>\n",
       "      <td>https://www.lacasaencendida.es/cine/loving-de-...</td>\n",
       "      <td>https://www.lacasaencendida.es/storage/13815/r...</td>\n",
       "      <td>2023</td>\n",
       "    </tr>\n",
       "    <tr>\n",
       "      <th>4</th>\n",
       "      <td>Greener Grass</td>\n",
       "      <td>Jocelyn DeBoer y Dawn Luebbe</td>\n",
       "      <td>8 jul 2023</td>\n",
       "      <td>Considerada una de las piezas más imaginativas...</td>\n",
       "      <td>Greener Grass, de Jocelyn DeBoer y Dawn Luebbe...</td>\n",
       "      <td>['#Audiovisuales']</td>\n",
       "      <td>La Terraza Magnética 2023. ¡Alucina, vecina!</td>\n",
       "      <td>Público general</td>\n",
       "      <td>Terraza</td>\n",
       "      <td>1 hora 45 minutos</td>\n",
       "      <td>4€</td>\n",
       "      <td>No details</td>\n",
       "      <td>['CINE']</td>\n",
       "      <td>https://www.lacasaencendida.es/cine/greener-gr...</td>\n",
       "      <td>https://www.lacasaencendida.es/storage/14816/r...</td>\n",
       "      <td>2023</td>\n",
       "    </tr>\n",
       "    <tr>\n",
       "      <th>...</th>\n",
       "      <td>...</td>\n",
       "      <td>...</td>\n",
       "      <td>...</td>\n",
       "      <td>...</td>\n",
       "      <td>...</td>\n",
       "      <td>...</td>\n",
       "      <td>...</td>\n",
       "      <td>...</td>\n",
       "      <td>...</td>\n",
       "      <td>...</td>\n",
       "      <td>...</td>\n",
       "      <td>...</td>\n",
       "      <td>...</td>\n",
       "      <td>...</td>\n",
       "      <td>...</td>\n",
       "      <td>...</td>\n",
       "    </tr>\n",
       "    <tr>\n",
       "      <th>4270</th>\n",
       "      <td>Premio de fotografía humanitaria Luis Valtueña...</td>\n",
       "      <td>No definido</td>\n",
       "      <td>22 ene - 28 ene 2012</td>\n",
       "      <td>Alessandro Grassani recoge la dura vida de los...</td>\n",
       "      <td>NaN</td>\n",
       "      <td>['']</td>\n",
       "      <td>RADIO - Archivo de entrevistas</td>\n",
       "      <td>NaN</td>\n",
       "      <td>NaN</td>\n",
       "      <td>NaN</td>\n",
       "      <td>NaN</td>\n",
       "      <td>No details</td>\n",
       "      <td>['ENCUENTROS']</td>\n",
       "      <td>https://www.lacasaencendida.es/encuentros/prem...</td>\n",
       "      <td>https://www.lacasaencendida.es/storage/11143/r...</td>\n",
       "      <td>2012</td>\n",
       "    </tr>\n",
       "    <tr>\n",
       "      <th>4271</th>\n",
       "      <td>Exposición \"El Paisaje Holandés\"</td>\n",
       "      <td>No definido</td>\n",
       "      <td>22 ene - 28 ene 2012</td>\n",
       "      <td>En los 60 en Holanda, un grupo de artistas cul...</td>\n",
       "      <td>NaN</td>\n",
       "      <td>['']</td>\n",
       "      <td>RADIO - Archivo de entrevistas</td>\n",
       "      <td>NaN</td>\n",
       "      <td>NaN</td>\n",
       "      <td>NaN</td>\n",
       "      <td>NaN</td>\n",
       "      <td>No details</td>\n",
       "      <td>['ENCUENTROS']</td>\n",
       "      <td>https://www.lacasaencendida.es/encuentros/expo...</td>\n",
       "      <td>https://www.lacasaencendida.es/storage/11353/r...</td>\n",
       "      <td>2012</td>\n",
       "    </tr>\n",
       "    <tr>\n",
       "      <th>4272</th>\n",
       "      <td>Entrevista a Teresa Aranguren</td>\n",
       "      <td>No definido</td>\n",
       "      <td>15 ene - 21 ene 2012</td>\n",
       "      <td>La periodista analiza la situación del pueblo ...</td>\n",
       "      <td>NaN</td>\n",
       "      <td>['']</td>\n",
       "      <td>RADIO - Archivo de entrevistas</td>\n",
       "      <td>NaN</td>\n",
       "      <td>NaN</td>\n",
       "      <td>NaN</td>\n",
       "      <td>NaN</td>\n",
       "      <td>No details</td>\n",
       "      <td>['ENCUENTROS']</td>\n",
       "      <td>https://www.lacasaencendida.es/encuentros/entr...</td>\n",
       "      <td>https://www.lacasaencendida.es/storage/11154/r...</td>\n",
       "      <td>2012</td>\n",
       "    </tr>\n",
       "    <tr>\n",
       "      <th>4273</th>\n",
       "      <td>Entrevista a Jonas Mekas</td>\n",
       "      <td>No definido</td>\n",
       "      <td>15 ene - 21 ene 2012</td>\n",
       "      <td>Un diario íntimo grabado en imágenes. El cinea...</td>\n",
       "      <td>NaN</td>\n",
       "      <td>['']</td>\n",
       "      <td>RADIO - Archivo de entrevistas</td>\n",
       "      <td>NaN</td>\n",
       "      <td>NaN</td>\n",
       "      <td>NaN</td>\n",
       "      <td>NaN</td>\n",
       "      <td>No details</td>\n",
       "      <td>['ENCUENTROS']</td>\n",
       "      <td>https://www.lacasaencendida.es/encuentros/entr...</td>\n",
       "      <td>https://www.lacasaencendida.es/storage/11155/r...</td>\n",
       "      <td>2012</td>\n",
       "    </tr>\n",
       "    <tr>\n",
       "      <th>4274</th>\n",
       "      <td>Entrevista a Chefa Alonso</td>\n",
       "      <td>No definido</td>\n",
       "      <td>15 ene - 21 ene 2012</td>\n",
       "      <td>La saxo soprano, percusionista y música improv...</td>\n",
       "      <td>NaN</td>\n",
       "      <td>['']</td>\n",
       "      <td>RADIO - Archivo de entrevistas</td>\n",
       "      <td>NaN</td>\n",
       "      <td>NaN</td>\n",
       "      <td>NaN</td>\n",
       "      <td>NaN</td>\n",
       "      <td>No details</td>\n",
       "      <td>['ENCUENTROS']</td>\n",
       "      <td>https://www.lacasaencendida.es/encuentros/entr...</td>\n",
       "      <td>https://www.lacasaencendida.es/storage/11158/r...</td>\n",
       "      <td>2012</td>\n",
       "    </tr>\n",
       "  </tbody>\n",
       "</table>\n",
       "<p>4275 rows × 16 columns</p>\n",
       "</div>"
      ],
      "text/plain": [
       "                                                  title  \\\n",
       "0                                     Sonidos de barrio   \n",
       "1                                                 Cashu   \n",
       "2                                       El orden divino   \n",
       "3                                                Loving   \n",
       "4                                         Greener Grass   \n",
       "...                                                 ...   \n",
       "4270  Premio de fotografía humanitaria Luis Valtueña...   \n",
       "4271                   Exposición \"El Paisaje Holandés\"   \n",
       "4272                      Entrevista a Teresa Aranguren   \n",
       "4273                           Entrevista a Jonas Mekas   \n",
       "4274                          Entrevista a Chefa Alonso   \n",
       "\n",
       "                            artist                  date  \\\n",
       "0            Kleber Mendonça Filho           15 jul 2023   \n",
       "1                      No definido           14 jul 2023   \n",
       "2             Petra Biondina Volpe           13 jul 2023   \n",
       "3                     Jeff Nichols           11 jul 2023   \n",
       "4     Jocelyn DeBoer y Dawn Luebbe            8 jul 2023   \n",
       "...                            ...                   ...   \n",
       "4270                   No definido  22 ene - 28 ene 2012   \n",
       "4271                   No definido  22 ene - 28 ene 2012   \n",
       "4272                   No definido  15 ene - 21 ene 2012   \n",
       "4273                   No definido  15 ene - 21 ene 2012   \n",
       "4274                   No definido  15 ene - 21 ene 2012   \n",
       "\n",
       "                                            description  \\\n",
       "0     La película narra las realidades violentas ocu...   \n",
       "1     Carolina Schutzer, alias DJ Cashu, es una de l...   \n",
       "2     En los años setenta, las mujeres no podían vot...   \n",
       "3     En la tercera sesión del ciclo 'Gestos necesar...   \n",
       "4     Considerada una de las piezas más imaginativas...   \n",
       "...                                                 ...   \n",
       "4270  Alessandro Grassani recoge la dura vida de los...   \n",
       "4271  En los 60 en Holanda, un grupo de artistas cul...   \n",
       "4272  La periodista analiza la situación del pueblo ...   \n",
       "4273  Un diario íntimo grabado en imágenes. El cinea...   \n",
       "4274  La saxo soprano, percusionista y música improv...   \n",
       "\n",
       "                                                   text  \\\n",
       "0     Sonidos de barrio, de Kleber Mendoça Filho. Br...   \n",
       "1     En un intento de ocupar y descentralizar la es...   \n",
       "2     El orden divino, de Petra Biondina Volpe, Suiz...   \n",
       "3     Loving, de Jeff Nichols, EEUU, 2016. 120 min. ...   \n",
       "4     Greener Grass, de Jocelyn DeBoer y Dawn Luebbe...   \n",
       "...                                                 ...   \n",
       "4270                                                NaN   \n",
       "4271                                                NaN   \n",
       "4272                                                NaN   \n",
       "4273                                                NaN   \n",
       "4274                                                NaN   \n",
       "\n",
       "                               tags  \\\n",
       "0                ['#Audiovisuales']   \n",
       "1                       ['#Música']   \n",
       "2                   ['#Feminismos']   \n",
       "3     ['#Antirracismo / migración']   \n",
       "4                ['#Audiovisuales']   \n",
       "...                             ...   \n",
       "4270                           ['']   \n",
       "4271                           ['']   \n",
       "4272                           ['']   \n",
       "4273                           ['']   \n",
       "4274                           ['']   \n",
       "\n",
       "                                             group       Dirigido a  \\\n",
       "0     La Terraza Magnética 2023. ¡Alucina, vecina!  Público general   \n",
       "1     La Terraza Magnética 2023. ¡Alucina, vecina!  Público general   \n",
       "2          Gestos necesarios para cambiar el mundo  Público general   \n",
       "3          Gestos necesarios para cambiar el mundo  Público general   \n",
       "4     La Terraza Magnética 2023. ¡Alucina, vecina!  Público general   \n",
       "...                                            ...              ...   \n",
       "4270                RADIO - Archivo de entrevistas              NaN   \n",
       "4271                RADIO - Archivo de entrevistas              NaN   \n",
       "4272                RADIO - Archivo de entrevistas              NaN   \n",
       "4273                RADIO - Archivo de entrevistas              NaN   \n",
       "4274                RADIO - Archivo de entrevistas              NaN   \n",
       "\n",
       "             Ubicación            Duración Precio  \\\n",
       "0              Terraza   1 hora 59 minutos     4€   \n",
       "1              Terraza              1 hora     8€   \n",
       "2     Sala Audiovisual  2 horas 30 minutos     4€   \n",
       "3     Sala Audiovisual  2 horas 30 minutos     4€   \n",
       "4              Terraza   1 hora 45 minutos     4€   \n",
       "...                ...                 ...    ...   \n",
       "4270               NaN                 NaN    NaN   \n",
       "4271               NaN                 NaN    NaN   \n",
       "4272               NaN                 NaN    NaN   \n",
       "4273               NaN                 NaN    NaN   \n",
       "4274               NaN                 NaN    NaN   \n",
       "\n",
       "                                                  event  \\\n",
       "0                                            No details   \n",
       "1                    Apertura de puertas a las 20:30 h.   \n",
       "2     Coloquio con: \\nMarifé Santiago Bolaños, poeta...   \n",
       "3     Coloquio con: \\nMoha Gerehou, periodista y exp...   \n",
       "4                                            No details   \n",
       "...                                                 ...   \n",
       "4270                                         No details   \n",
       "4271                                         No details   \n",
       "4272                                         No details   \n",
       "4273                                         No details   \n",
       "4274                                         No details   \n",
       "\n",
       "                    category  \\\n",
       "0                   ['CINE']   \n",
       "1             ['CONCIERTOS']   \n",
       "2     ['CINE', 'ENCUENTROS']   \n",
       "3     ['CINE', 'ENCUENTROS']   \n",
       "4                   ['CINE']   \n",
       "...                      ...   \n",
       "4270          ['ENCUENTROS']   \n",
       "4271          ['ENCUENTROS']   \n",
       "4272          ['ENCUENTROS']   \n",
       "4273          ['ENCUENTROS']   \n",
       "4274          ['ENCUENTROS']   \n",
       "\n",
       "                                                    url  \\\n",
       "0     https://www.lacasaencendida.es/cine/sonidos-de...   \n",
       "1       https://www.lacasaencendida.es/conciertos/cashu   \n",
       "2     https://www.lacasaencendida.es/cine/el-orden-d...   \n",
       "3     https://www.lacasaencendida.es/cine/loving-de-...   \n",
       "4     https://www.lacasaencendida.es/cine/greener-gr...   \n",
       "...                                                 ...   \n",
       "4270  https://www.lacasaencendida.es/encuentros/prem...   \n",
       "4271  https://www.lacasaencendida.es/encuentros/expo...   \n",
       "4272  https://www.lacasaencendida.es/encuentros/entr...   \n",
       "4273  https://www.lacasaencendida.es/encuentros/entr...   \n",
       "4274  https://www.lacasaencendida.es/encuentros/entr...   \n",
       "\n",
       "                                                  image  year  \n",
       "0     https://www.lacasaencendida.es/storage/14817/r...  2023  \n",
       "1     https://www.lacasaencendida.es/storage/15099/r...  2023  \n",
       "2     https://www.lacasaencendida.es/storage/13824/r...  2023  \n",
       "3     https://www.lacasaencendida.es/storage/13815/r...  2023  \n",
       "4     https://www.lacasaencendida.es/storage/14816/r...  2023  \n",
       "...                                                 ...   ...  \n",
       "4270  https://www.lacasaencendida.es/storage/11143/r...  2012  \n",
       "4271  https://www.lacasaencendida.es/storage/11353/r...  2012  \n",
       "4272  https://www.lacasaencendida.es/storage/11154/r...  2012  \n",
       "4273  https://www.lacasaencendida.es/storage/11155/r...  2012  \n",
       "4274  https://www.lacasaencendida.es/storage/11158/r...  2012  \n",
       "\n",
       "[4275 rows x 16 columns]"
      ]
     },
     "execution_count": 43,
     "metadata": {},
     "output_type": "execute_result"
    }
   ],
   "source": [
    "# Necesitamos seprar las categorías y los tags en valores individuales\n",
    "casa_df"
   ]
  },
  {
   "cell_type": "markdown",
   "metadata": {},
   "source": [
    "## Separamos los datos por caategorías y tags individuales"
   ]
  },
  {
   "cell_type": "code",
   "execution_count": 52,
   "metadata": {},
   "outputs": [
    {
     "data": {
      "text/html": [
       "<div>\n",
       "<style scoped>\n",
       "    .dataframe tbody tr th:only-of-type {\n",
       "        vertical-align: middle;\n",
       "    }\n",
       "\n",
       "    .dataframe tbody tr th {\n",
       "        vertical-align: top;\n",
       "    }\n",
       "\n",
       "    .dataframe thead th {\n",
       "        text-align: right;\n",
       "    }\n",
       "</style>\n",
       "<table border=\"1\" class=\"dataframe\">\n",
       "  <thead>\n",
       "    <tr style=\"text-align: right;\">\n",
       "      <th></th>\n",
       "      <th>Unnamed: 0</th>\n",
       "      <th>title</th>\n",
       "      <th>artist</th>\n",
       "      <th>date</th>\n",
       "      <th>description</th>\n",
       "      <th>text</th>\n",
       "      <th>tags</th>\n",
       "      <th>group</th>\n",
       "      <th>Dirigido a</th>\n",
       "      <th>Ubicación</th>\n",
       "      <th>...</th>\n",
       "      <th>url</th>\n",
       "      <th>image</th>\n",
       "      <th>year</th>\n",
       "      <th>category1</th>\n",
       "      <th>category2</th>\n",
       "      <th>category3</th>\n",
       "      <th>category4</th>\n",
       "      <th>tag1</th>\n",
       "      <th>tag2</th>\n",
       "      <th>tag3</th>\n",
       "    </tr>\n",
       "  </thead>\n",
       "  <tbody>\n",
       "    <tr>\n",
       "      <th>0</th>\n",
       "      <td>0</td>\n",
       "      <td>Sonidos de barrio</td>\n",
       "      <td>Kleber Mendonça Filho</td>\n",
       "      <td>15 jul 2023</td>\n",
       "      <td>La película narra las realidades violentas ocu...</td>\n",
       "      <td>Sonidos de barrio, de Kleber Mendoça Filho. Br...</td>\n",
       "      <td>['#Audiovisuales']</td>\n",
       "      <td>La Terraza Magnética 2023. ¡Alucina, vecina!</td>\n",
       "      <td>Público general</td>\n",
       "      <td>Terraza</td>\n",
       "      <td>...</td>\n",
       "      <td>https://www.lacasaencendida.es/cine/sonidos-de...</td>\n",
       "      <td>https://www.lacasaencendida.es/storage/14817/r...</td>\n",
       "      <td>2023.0</td>\n",
       "      <td>CINE</td>\n",
       "      <td>None</td>\n",
       "      <td>None</td>\n",
       "      <td>None</td>\n",
       "      <td>Audiovisuales</td>\n",
       "      <td>None</td>\n",
       "      <td>None</td>\n",
       "    </tr>\n",
       "    <tr>\n",
       "      <th>1</th>\n",
       "      <td>1</td>\n",
       "      <td>Cashu</td>\n",
       "      <td>No definido</td>\n",
       "      <td>14 jul 2023</td>\n",
       "      <td>Carolina Schutzer, alias DJ Cashu, es una de l...</td>\n",
       "      <td>En un intento de ocupar y descentralizar la es...</td>\n",
       "      <td>['#Música']</td>\n",
       "      <td>La Terraza Magnética 2023. ¡Alucina, vecina!</td>\n",
       "      <td>Público general</td>\n",
       "      <td>Terraza</td>\n",
       "      <td>...</td>\n",
       "      <td>https://www.lacasaencendida.es/conciertos/cashu</td>\n",
       "      <td>https://www.lacasaencendida.es/storage/15099/r...</td>\n",
       "      <td>2023.0</td>\n",
       "      <td>CONCIERTOS</td>\n",
       "      <td>None</td>\n",
       "      <td>None</td>\n",
       "      <td>None</td>\n",
       "      <td>Música</td>\n",
       "      <td>None</td>\n",
       "      <td>None</td>\n",
       "    </tr>\n",
       "    <tr>\n",
       "      <th>2</th>\n",
       "      <td>2</td>\n",
       "      <td>El orden divino</td>\n",
       "      <td>Petra Biondina Volpe</td>\n",
       "      <td>13 jul 2023</td>\n",
       "      <td>En los años setenta, las mujeres no podían vot...</td>\n",
       "      <td>El orden divino, de Petra Biondina Volpe, Suiz...</td>\n",
       "      <td>['#Feminismos']</td>\n",
       "      <td>Gestos necesarios para cambiar el mundo</td>\n",
       "      <td>Público general</td>\n",
       "      <td>Sala Audiovisual</td>\n",
       "      <td>...</td>\n",
       "      <td>https://www.lacasaencendida.es/cine/el-orden-d...</td>\n",
       "      <td>https://www.lacasaencendida.es/storage/13824/r...</td>\n",
       "      <td>2023.0</td>\n",
       "      <td>CINE</td>\n",
       "      <td>ENCUENTROS</td>\n",
       "      <td>None</td>\n",
       "      <td>None</td>\n",
       "      <td>Feminismos</td>\n",
       "      <td>None</td>\n",
       "      <td>None</td>\n",
       "    </tr>\n",
       "    <tr>\n",
       "      <th>3</th>\n",
       "      <td>3</td>\n",
       "      <td>Loving</td>\n",
       "      <td>Jeff Nichols</td>\n",
       "      <td>11 jul 2023</td>\n",
       "      <td>En la tercera sesión del ciclo 'Gestos necesar...</td>\n",
       "      <td>Loving, de Jeff Nichols, EEUU, 2016. 120 min. ...</td>\n",
       "      <td>['#Antirracismo / migración']</td>\n",
       "      <td>Gestos necesarios para cambiar el mundo</td>\n",
       "      <td>Público general</td>\n",
       "      <td>Sala Audiovisual</td>\n",
       "      <td>...</td>\n",
       "      <td>https://www.lacasaencendida.es/cine/loving-de-...</td>\n",
       "      <td>https://www.lacasaencendida.es/storage/13815/r...</td>\n",
       "      <td>2023.0</td>\n",
       "      <td>CINE</td>\n",
       "      <td>ENCUENTROS</td>\n",
       "      <td>None</td>\n",
       "      <td>None</td>\n",
       "      <td>Antirracismo / migración</td>\n",
       "      <td>None</td>\n",
       "      <td>None</td>\n",
       "    </tr>\n",
       "    <tr>\n",
       "      <th>4</th>\n",
       "      <td>4</td>\n",
       "      <td>Greener Grass</td>\n",
       "      <td>Jocelyn DeBoer y Dawn Luebbe</td>\n",
       "      <td>8 jul 2023</td>\n",
       "      <td>Considerada una de las piezas más imaginativas...</td>\n",
       "      <td>Greener Grass, de Jocelyn DeBoer y Dawn Luebbe...</td>\n",
       "      <td>['#Audiovisuales']</td>\n",
       "      <td>La Terraza Magnética 2023. ¡Alucina, vecina!</td>\n",
       "      <td>Público general</td>\n",
       "      <td>Terraza</td>\n",
       "      <td>...</td>\n",
       "      <td>https://www.lacasaencendida.es/cine/greener-gr...</td>\n",
       "      <td>https://www.lacasaencendida.es/storage/14816/r...</td>\n",
       "      <td>2023.0</td>\n",
       "      <td>CINE</td>\n",
       "      <td>None</td>\n",
       "      <td>None</td>\n",
       "      <td>None</td>\n",
       "      <td>Audiovisuales</td>\n",
       "      <td>None</td>\n",
       "      <td>None</td>\n",
       "    </tr>\n",
       "    <tr>\n",
       "      <th>5</th>\n",
       "      <td>5</td>\n",
       "      <td>SIMONA</td>\n",
       "      <td>No definido</td>\n",
       "      <td>7 jul 2023</td>\n",
       "      <td>Su música es tan comprometida como su persona:...</td>\n",
       "      <td>SIMONA es una cantante y compositora argentina...</td>\n",
       "      <td>['#Música']</td>\n",
       "      <td>La Terraza Magnética 2023. ¡Alucina, vecina!</td>\n",
       "      <td>Público general</td>\n",
       "      <td>Terraza</td>\n",
       "      <td>...</td>\n",
       "      <td>https://www.lacasaencendida.es/conciertos/simona</td>\n",
       "      <td>https://www.lacasaencendida.es/storage/14904/r...</td>\n",
       "      <td>2023.0</td>\n",
       "      <td>CONCIERTOS</td>\n",
       "      <td>None</td>\n",
       "      <td>None</td>\n",
       "      <td>None</td>\n",
       "      <td>Música</td>\n",
       "      <td>None</td>\n",
       "      <td>None</td>\n",
       "    </tr>\n",
       "    <tr>\n",
       "      <th>6</th>\n",
       "      <td>6</td>\n",
       "      <td>Para Sama</td>\n",
       "      <td>Waad al-Kateab, Edward Watts</td>\n",
       "      <td>6 jul 2023</td>\n",
       "      <td>Para Sama es una carta de amor de una joven ma...</td>\n",
       "      <td>Para Sama, de Waad al-Kateab, Edward Watts, Re...</td>\n",
       "      <td>['#Contextos internacionales #Audiovisuales']</td>\n",
       "      <td>Gestos necesarios para cambiar el mundo</td>\n",
       "      <td>Público general</td>\n",
       "      <td>Sala Audiovisual</td>\n",
       "      <td>...</td>\n",
       "      <td>https://www.lacasaencendida.es/cine/para-sama-...</td>\n",
       "      <td>https://www.lacasaencendida.es/storage/13816/r...</td>\n",
       "      <td>2023.0</td>\n",
       "      <td>CINE</td>\n",
       "      <td>ENCUENTROS</td>\n",
       "      <td>None</td>\n",
       "      <td>None</td>\n",
       "      <td>Contextos internacionales</td>\n",
       "      <td>Audiovisuales</td>\n",
       "      <td>None</td>\n",
       "    </tr>\n",
       "    <tr>\n",
       "      <th>7</th>\n",
       "      <td>7</td>\n",
       "      <td>Solo nos queda bailar</td>\n",
       "      <td>Levan Akin</td>\n",
       "      <td>4 jul 2023</td>\n",
       "      <td>Sesión inaugural del ciclo 'Gestos necesarios ...</td>\n",
       "      <td>Solo nos queda bailar, de Levan Akin, Suecia, ...</td>\n",
       "      <td>['#Audiovisuales #LGTBIQ']</td>\n",
       "      <td>Gestos necesarios para cambiar el mundo</td>\n",
       "      <td>Público general</td>\n",
       "      <td>Sala Audiovisual</td>\n",
       "      <td>...</td>\n",
       "      <td>https://www.lacasaencendida.es/cine/solo-nos-q...</td>\n",
       "      <td>https://www.lacasaencendida.es/storage/13817/r...</td>\n",
       "      <td>2023.0</td>\n",
       "      <td>CINE</td>\n",
       "      <td>ENCUENTROS</td>\n",
       "      <td>None</td>\n",
       "      <td>None</td>\n",
       "      <td>Audiovisuales</td>\n",
       "      <td>LGTBIQ</td>\n",
       "      <td>None</td>\n",
       "    </tr>\n",
       "    <tr>\n",
       "      <th>8</th>\n",
       "      <td>8</td>\n",
       "      <td>Ema</td>\n",
       "      <td>Pablo Larraín</td>\n",
       "      <td>1 jul 2023</td>\n",
       "      <td>El director nominado al Oscar por No represent...</td>\n",
       "      <td>Ema, de Pablo Larraín. Chile, 2019. 107 min\\nE...</td>\n",
       "      <td>['#Audiovisuales']</td>\n",
       "      <td>La Terraza Magnética 2023. ¡Alucina, vecina!</td>\n",
       "      <td>Público general</td>\n",
       "      <td>Terraza</td>\n",
       "      <td>...</td>\n",
       "      <td>https://www.lacasaencendida.es/cine/ema-de-pab...</td>\n",
       "      <td>https://www.lacasaencendida.es/storage/14995/r...</td>\n",
       "      <td>2023.0</td>\n",
       "      <td>CINE</td>\n",
       "      <td>None</td>\n",
       "      <td>None</td>\n",
       "      <td>None</td>\n",
       "      <td>Audiovisuales</td>\n",
       "      <td>None</td>\n",
       "      <td>None</td>\n",
       "    </tr>\n",
       "    <tr>\n",
       "      <th>9</th>\n",
       "      <td>9</td>\n",
       "      <td>Dinamarca</td>\n",
       "      <td>No definido</td>\n",
       "      <td>30 jun 2023</td>\n",
       "      <td>La música de Dinamarca llega directa al corazó...</td>\n",
       "      <td>Cristian Dinamarca es un dj y productor afinca...</td>\n",
       "      <td>['#Música']</td>\n",
       "      <td>La Terraza Magnética 2023. ¡Alucina, vecina!</td>\n",
       "      <td>Público general</td>\n",
       "      <td>Terraza</td>\n",
       "      <td>...</td>\n",
       "      <td>https://www.lacasaencendida.es/conciertos/dina...</td>\n",
       "      <td>https://www.lacasaencendida.es/storage/14903/r...</td>\n",
       "      <td>2023.0</td>\n",
       "      <td>CONCIERTOS</td>\n",
       "      <td>None</td>\n",
       "      <td>None</td>\n",
       "      <td>None</td>\n",
       "      <td>Música</td>\n",
       "      <td>None</td>\n",
       "      <td>None</td>\n",
       "    </tr>\n",
       "    <tr>\n",
       "      <th>10</th>\n",
       "      <td>10</td>\n",
       "      <td>Muestra de Cine de Lavapiés</td>\n",
       "      <td>No definido</td>\n",
       "      <td>29 jun 2023</td>\n",
       "      <td>Como parte de Un Piano preparado, la Muestra i...</td>\n",
       "      <td>La Muestra de cine de Lavapiés usa el cine com...</td>\n",
       "      <td>['#Artes Visuales / Plásticas']</td>\n",
       "      <td>Un piano preparado</td>\n",
       "      <td>NaN</td>\n",
       "      <td>Sala Audiovisual</td>\n",
       "      <td>...</td>\n",
       "      <td>https://www.lacasaencendida.es/encuentros/mues...</td>\n",
       "      <td>https://www.lacasaencendida.es/storage/13178/r...</td>\n",
       "      <td>2023.0</td>\n",
       "      <td>ENCUENTROS</td>\n",
       "      <td>None</td>\n",
       "      <td>None</td>\n",
       "      <td>None</td>\n",
       "      <td>Artes Visuales / Plásticas</td>\n",
       "      <td>None</td>\n",
       "      <td>None</td>\n",
       "    </tr>\n",
       "    <tr>\n",
       "      <th>11</th>\n",
       "      <td>11</td>\n",
       "      <td>Teatro en la encrucijada</td>\n",
       "      <td>Juan Mayorga, J. Sanchis Sinisterra y Eva Redondo</td>\n",
       "      <td>27 jun 2023</td>\n",
       "      <td>Tres generaciones de autores se reúnen para co...</td>\n",
       "      <td>Eva Redondo (43 años), Juan Mayorga (58 años) ...</td>\n",
       "      <td>['#Artes Visuales / Plásticas']</td>\n",
       "      <td>Los retos del mundo en la era post-Covid</td>\n",
       "      <td>Público general</td>\n",
       "      <td>Auditorio</td>\n",
       "      <td>...</td>\n",
       "      <td>https://www.lacasaencendida.es/encuentros/teat...</td>\n",
       "      <td>https://www.lacasaencendida.es/storage/12693/r...</td>\n",
       "      <td>2023.0</td>\n",
       "      <td>ENCUENTROS</td>\n",
       "      <td>None</td>\n",
       "      <td>None</td>\n",
       "      <td>None</td>\n",
       "      <td>Artes Visuales / Plásticas</td>\n",
       "      <td>None</td>\n",
       "      <td>None</td>\n",
       "    </tr>\n",
       "    <tr>\n",
       "      <th>12</th>\n",
       "      <td>12</td>\n",
       "      <td>Conversación con Peter Singer sobre Henry Spir...</td>\n",
       "      <td>No definido</td>\n",
       "      <td>22 jun 2023</td>\n",
       "      <td>Peter Singer habla sobre Henry Spira, el activ...</td>\n",
       "      <td>Peter Singer, uno de los filósofos vivos con m...</td>\n",
       "      <td>['#Sostenibilidad']</td>\n",
       "      <td>Not in a group</td>\n",
       "      <td>Público general</td>\n",
       "      <td>Auditorio, Sala Audiovisual</td>\n",
       "      <td>...</td>\n",
       "      <td>https://www.lacasaencendida.es/encuentros/conv...</td>\n",
       "      <td>https://www.lacasaencendida.es/storage/14997/r...</td>\n",
       "      <td>2023.0</td>\n",
       "      <td>ENCUENTROS</td>\n",
       "      <td>None</td>\n",
       "      <td>None</td>\n",
       "      <td>None</td>\n",
       "      <td>Sostenibilidad</td>\n",
       "      <td>None</td>\n",
       "      <td>None</td>\n",
       "    </tr>\n",
       "    <tr>\n",
       "      <th>13</th>\n",
       "      <td>13</td>\n",
       "      <td>Encuentro #Junio de VENECIA. Club de lectura</td>\n",
       "      <td>No definido</td>\n",
       "      <td>22 jun 2023</td>\n",
       "      <td>Dedicamos la sesión de junio a \"Las aventuras ...</td>\n",
       "      <td>“Hay que vernos, pero no nos van a ver. Sabemo...</td>\n",
       "      <td>['#Literatura']</td>\n",
       "      <td>Not in a group</td>\n",
       "      <td>NaN</td>\n",
       "      <td>Torreón I, Torreón II</td>\n",
       "      <td>...</td>\n",
       "      <td>https://www.lacasaencendida.es/encuentros/encu...</td>\n",
       "      <td>https://www.lacasaencendida.es/storage/14409/r...</td>\n",
       "      <td>2023.0</td>\n",
       "      <td>ENCUENTROS</td>\n",
       "      <td>None</td>\n",
       "      <td>None</td>\n",
       "      <td>None</td>\n",
       "      <td>Literatura</td>\n",
       "      <td>None</td>\n",
       "      <td>None</td>\n",
       "    </tr>\n",
       "    <tr>\n",
       "      <th>14</th>\n",
       "      <td>14</td>\n",
       "      <td>Unicorn Wars</td>\n",
       "      <td>Alberto Vázquez</td>\n",
       "      <td>20 jun 2023</td>\n",
       "      <td>Las guerras, que representan el expolio, la co...</td>\n",
       "      <td>Unicorn Wars, de Alberto Vázquez. España-Franc...</td>\n",
       "      <td>['#Contextos internacionales #Audiovisuales #A...</td>\n",
       "      <td>La voz de las sin voz 2023. Cine y coloquio</td>\n",
       "      <td>Público general</td>\n",
       "      <td>Sala Audiovisual</td>\n",
       "      <td>...</td>\n",
       "      <td>https://www.lacasaencendida.es/cine/unicorn-wa...</td>\n",
       "      <td>https://www.lacasaencendida.es/storage/13414/r...</td>\n",
       "      <td>2023.0</td>\n",
       "      <td>CINE</td>\n",
       "      <td>ENCUENTROS</td>\n",
       "      <td>None</td>\n",
       "      <td>None</td>\n",
       "      <td>Contextos internacionales</td>\n",
       "      <td>Audiovisuales</td>\n",
       "      <td>Antirracismo / migración</td>\n",
       "    </tr>\n",
       "    <tr>\n",
       "      <th>15</th>\n",
       "      <td>15</td>\n",
       "      <td>La insoportable insostenibilidad de nuestro mo...</td>\n",
       "      <td>No definido</td>\n",
       "      <td>15 jun 2023</td>\n",
       "      <td>Cuando las normas de producción y consumo nos ...</td>\n",
       "      <td>La existencia moderna, pese a sus considerable...</td>\n",
       "      <td>['#Sostenibilidad #Pensamiento']</td>\n",
       "      <td>Debates para un pensamiento inclusivo</td>\n",
       "      <td>Público general</td>\n",
       "      <td>NaN</td>\n",
       "      <td>...</td>\n",
       "      <td>https://www.lacasaencendida.es/encuentros/la-i...</td>\n",
       "      <td>https://www.lacasaencendida.es/storage/14419/r...</td>\n",
       "      <td>2023.0</td>\n",
       "      <td>ENCUENTROS</td>\n",
       "      <td>ONLINE</td>\n",
       "      <td>None</td>\n",
       "      <td>None</td>\n",
       "      <td>Sostenibilidad</td>\n",
       "      <td>Pensamiento</td>\n",
       "      <td>None</td>\n",
       "    </tr>\n",
       "    <tr>\n",
       "      <th>16</th>\n",
       "      <td>16</td>\n",
       "      <td>Partidos</td>\n",
       "      <td>Silvia Di Florio</td>\n",
       "      <td>13 jun 2023</td>\n",
       "      <td>El exilio, además de ser otra consecuencia de ...</td>\n",
       "      <td>Partidos, de Silvia di Florio. Argentina, 2022...</td>\n",
       "      <td>['#Contextos internacionales #Audiovisuales #A...</td>\n",
       "      <td>La voz de las sin voz 2023. Cine y coloquio</td>\n",
       "      <td>Público general</td>\n",
       "      <td>Sala Audiovisual</td>\n",
       "      <td>...</td>\n",
       "      <td>https://www.lacasaencendida.es/cine/partidos-d...</td>\n",
       "      <td>https://www.lacasaencendida.es/storage/13413/r...</td>\n",
       "      <td>2023.0</td>\n",
       "      <td>CINE</td>\n",
       "      <td>ENCUENTROS</td>\n",
       "      <td>None</td>\n",
       "      <td>None</td>\n",
       "      <td>Contextos internacionales</td>\n",
       "      <td>Audiovisuales</td>\n",
       "      <td>Antirracismo / migración</td>\n",
       "    </tr>\n",
       "    <tr>\n",
       "      <th>17</th>\n",
       "      <td>17</td>\n",
       "      <td>The Video Essay</td>\n",
       "      <td>No definido</td>\n",
       "      <td>11 jun 2023</td>\n",
       "      <td>Sección dedicada al Video Ensayo organizada en...</td>\n",
       "      <td>Programa:\\nVR: Mysteries of the Horizon, de Ph...</td>\n",
       "      <td>['#Audiovisuales']</td>\n",
       "      <td>FILMADRID 2023</td>\n",
       "      <td>Público general</td>\n",
       "      <td>Sala Audiovisual</td>\n",
       "      <td>...</td>\n",
       "      <td>https://www.lacasaencendida.es/cine/the-video-...</td>\n",
       "      <td>https://www.lacasaencendida.es/storage/13993/r...</td>\n",
       "      <td>2023.0</td>\n",
       "      <td>CINE</td>\n",
       "      <td>ENCUENTROS</td>\n",
       "      <td>None</td>\n",
       "      <td>None</td>\n",
       "      <td>Audiovisuales</td>\n",
       "      <td>None</td>\n",
       "      <td>None</td>\n",
       "    </tr>\n",
       "    <tr>\n",
       "      <th>18</th>\n",
       "      <td>18</td>\n",
       "      <td>Nuevos Pasajes / Nuevas Visiones</td>\n",
       "      <td>No definido</td>\n",
       "      <td>11 jun 2023</td>\n",
       "      <td>Espacio para un cine europeo valiente y compro...</td>\n",
       "      <td>Princess Beauty, de Eszter Szabó. Hungría, 202...</td>\n",
       "      <td>['#Audiovisuales']</td>\n",
       "      <td>FILMADRID 2023</td>\n",
       "      <td>Público general</td>\n",
       "      <td>Sala Audiovisual</td>\n",
       "      <td>...</td>\n",
       "      <td>https://www.lacasaencendida.es/cine/nuevos-pas...</td>\n",
       "      <td>https://www.lacasaencendida.es/storage/13994/r...</td>\n",
       "      <td>2023.0</td>\n",
       "      <td>CINE</td>\n",
       "      <td>ENCUENTROS</td>\n",
       "      <td>None</td>\n",
       "      <td>None</td>\n",
       "      <td>Audiovisuales</td>\n",
       "      <td>None</td>\n",
       "      <td>None</td>\n",
       "    </tr>\n",
       "    <tr>\n",
       "      <th>19</th>\n",
       "      <td>19</td>\n",
       "      <td>Rave To Lament</td>\n",
       "      <td>Katerina Andreou</td>\n",
       "      <td>10 jun 2023</td>\n",
       "      <td>Llena de nostalgia por una época que no vivió,...</td>\n",
       "      <td>En otoño de 2020, la coreógrafa de origen grie...</td>\n",
       "      <td>['#Música']</td>\n",
       "      <td>Festival Domingo 2023</td>\n",
       "      <td>Público general</td>\n",
       "      <td>Patio</td>\n",
       "      <td>...</td>\n",
       "      <td>https://www.lacasaencendida.es/escenicas/rave-...</td>\n",
       "      <td>https://www.lacasaencendida.es/storage/14540/r...</td>\n",
       "      <td>2023.0</td>\n",
       "      <td>ESCÉNICAS</td>\n",
       "      <td>None</td>\n",
       "      <td>None</td>\n",
       "      <td>None</td>\n",
       "      <td>Música</td>\n",
       "      <td>None</td>\n",
       "      <td>None</td>\n",
       "    </tr>\n",
       "  </tbody>\n",
       "</table>\n",
       "<p>20 rows × 24 columns</p>\n",
       "</div>"
      ],
      "text/plain": [
       "    Unnamed: 0                                              title  \\\n",
       "0            0                                  Sonidos de barrio   \n",
       "1            1                                              Cashu   \n",
       "2            2                                    El orden divino   \n",
       "3            3                                             Loving   \n",
       "4            4                                      Greener Grass   \n",
       "5            5                                             SIMONA   \n",
       "6            6                                          Para Sama   \n",
       "7            7                              Solo nos queda bailar   \n",
       "8            8                                                Ema   \n",
       "9            9                                          Dinamarca   \n",
       "10          10                        Muestra de Cine de Lavapiés   \n",
       "11          11                           Teatro en la encrucijada   \n",
       "12          12  Conversación con Peter Singer sobre Henry Spir...   \n",
       "13          13       Encuentro #Junio de VENECIA. Club de lectura   \n",
       "14          14                                       Unicorn Wars   \n",
       "15          15  La insoportable insostenibilidad de nuestro mo...   \n",
       "16          16                                           Partidos   \n",
       "17          17                                    The Video Essay   \n",
       "18          18                   Nuevos Pasajes / Nuevas Visiones   \n",
       "19          19                                     Rave To Lament   \n",
       "\n",
       "                                               artist         date  \\\n",
       "0                               Kleber Mendonça Filho  15 jul 2023   \n",
       "1                                         No definido  14 jul 2023   \n",
       "2                                Petra Biondina Volpe  13 jul 2023   \n",
       "3                                        Jeff Nichols  11 jul 2023   \n",
       "4                        Jocelyn DeBoer y Dawn Luebbe   8 jul 2023   \n",
       "5                                         No definido   7 jul 2023   \n",
       "6                        Waad al-Kateab, Edward Watts   6 jul 2023   \n",
       "7                                          Levan Akin   4 jul 2023   \n",
       "8                                       Pablo Larraín   1 jul 2023   \n",
       "9                                         No definido  30 jun 2023   \n",
       "10                                        No definido  29 jun 2023   \n",
       "11  Juan Mayorga, J. Sanchis Sinisterra y Eva Redondo  27 jun 2023   \n",
       "12                                        No definido  22 jun 2023   \n",
       "13                                        No definido  22 jun 2023   \n",
       "14                                    Alberto Vázquez  20 jun 2023   \n",
       "15                                        No definido  15 jun 2023   \n",
       "16                                   Silvia Di Florio  13 jun 2023   \n",
       "17                                        No definido  11 jun 2023   \n",
       "18                                        No definido  11 jun 2023   \n",
       "19                                   Katerina Andreou  10 jun 2023   \n",
       "\n",
       "                                          description  \\\n",
       "0   La película narra las realidades violentas ocu...   \n",
       "1   Carolina Schutzer, alias DJ Cashu, es una de l...   \n",
       "2   En los años setenta, las mujeres no podían vot...   \n",
       "3   En la tercera sesión del ciclo 'Gestos necesar...   \n",
       "4   Considerada una de las piezas más imaginativas...   \n",
       "5   Su música es tan comprometida como su persona:...   \n",
       "6   Para Sama es una carta de amor de una joven ma...   \n",
       "7   Sesión inaugural del ciclo 'Gestos necesarios ...   \n",
       "8   El director nominado al Oscar por No represent...   \n",
       "9   La música de Dinamarca llega directa al corazó...   \n",
       "10  Como parte de Un Piano preparado, la Muestra i...   \n",
       "11  Tres generaciones de autores se reúnen para co...   \n",
       "12  Peter Singer habla sobre Henry Spira, el activ...   \n",
       "13  Dedicamos la sesión de junio a \"Las aventuras ...   \n",
       "14  Las guerras, que representan el expolio, la co...   \n",
       "15  Cuando las normas de producción y consumo nos ...   \n",
       "16  El exilio, además de ser otra consecuencia de ...   \n",
       "17  Sección dedicada al Video Ensayo organizada en...   \n",
       "18  Espacio para un cine europeo valiente y compro...   \n",
       "19  Llena de nostalgia por una época que no vivió,...   \n",
       "\n",
       "                                                 text  \\\n",
       "0   Sonidos de barrio, de Kleber Mendoça Filho. Br...   \n",
       "1   En un intento de ocupar y descentralizar la es...   \n",
       "2   El orden divino, de Petra Biondina Volpe, Suiz...   \n",
       "3   Loving, de Jeff Nichols, EEUU, 2016. 120 min. ...   \n",
       "4   Greener Grass, de Jocelyn DeBoer y Dawn Luebbe...   \n",
       "5   SIMONA es una cantante y compositora argentina...   \n",
       "6   Para Sama, de Waad al-Kateab, Edward Watts, Re...   \n",
       "7   Solo nos queda bailar, de Levan Akin, Suecia, ...   \n",
       "8   Ema, de Pablo Larraín. Chile, 2019. 107 min\\nE...   \n",
       "9   Cristian Dinamarca es un dj y productor afinca...   \n",
       "10  La Muestra de cine de Lavapiés usa el cine com...   \n",
       "11  Eva Redondo (43 años), Juan Mayorga (58 años) ...   \n",
       "12  Peter Singer, uno de los filósofos vivos con m...   \n",
       "13  “Hay que vernos, pero no nos van a ver. Sabemo...   \n",
       "14  Unicorn Wars, de Alberto Vázquez. España-Franc...   \n",
       "15  La existencia moderna, pese a sus considerable...   \n",
       "16  Partidos, de Silvia di Florio. Argentina, 2022...   \n",
       "17  Programa:\\nVR: Mysteries of the Horizon, de Ph...   \n",
       "18  Princess Beauty, de Eszter Szabó. Hungría, 202...   \n",
       "19  En otoño de 2020, la coreógrafa de origen grie...   \n",
       "\n",
       "                                                 tags  \\\n",
       "0                                  ['#Audiovisuales']   \n",
       "1                                         ['#Música']   \n",
       "2                                     ['#Feminismos']   \n",
       "3                       ['#Antirracismo / migración']   \n",
       "4                                  ['#Audiovisuales']   \n",
       "5                                         ['#Música']   \n",
       "6       ['#Contextos internacionales #Audiovisuales']   \n",
       "7                          ['#Audiovisuales #LGTBIQ']   \n",
       "8                                  ['#Audiovisuales']   \n",
       "9                                         ['#Música']   \n",
       "10                    ['#Artes Visuales / Plásticas']   \n",
       "11                    ['#Artes Visuales / Plásticas']   \n",
       "12                                ['#Sostenibilidad']   \n",
       "13                                    ['#Literatura']   \n",
       "14  ['#Contextos internacionales #Audiovisuales #A...   \n",
       "15                   ['#Sostenibilidad #Pensamiento']   \n",
       "16  ['#Contextos internacionales #Audiovisuales #A...   \n",
       "17                                 ['#Audiovisuales']   \n",
       "18                                 ['#Audiovisuales']   \n",
       "19                                        ['#Música']   \n",
       "\n",
       "                                           group       Dirigido a  \\\n",
       "0   La Terraza Magnética 2023. ¡Alucina, vecina!  Público general   \n",
       "1   La Terraza Magnética 2023. ¡Alucina, vecina!  Público general   \n",
       "2        Gestos necesarios para cambiar el mundo  Público general   \n",
       "3        Gestos necesarios para cambiar el mundo  Público general   \n",
       "4   La Terraza Magnética 2023. ¡Alucina, vecina!  Público general   \n",
       "5   La Terraza Magnética 2023. ¡Alucina, vecina!  Público general   \n",
       "6        Gestos necesarios para cambiar el mundo  Público general   \n",
       "7        Gestos necesarios para cambiar el mundo  Público general   \n",
       "8   La Terraza Magnética 2023. ¡Alucina, vecina!  Público general   \n",
       "9   La Terraza Magnética 2023. ¡Alucina, vecina!  Público general   \n",
       "10                            Un piano preparado              NaN   \n",
       "11      Los retos del mundo en la era post-Covid  Público general   \n",
       "12                                Not in a group  Público general   \n",
       "13                                Not in a group              NaN   \n",
       "14   La voz de las sin voz 2023. Cine y coloquio  Público general   \n",
       "15         Debates para un pensamiento inclusivo  Público general   \n",
       "16   La voz de las sin voz 2023. Cine y coloquio  Público general   \n",
       "17                                FILMADRID 2023  Público general   \n",
       "18                                FILMADRID 2023  Público general   \n",
       "19                         Festival Domingo 2023  Público general   \n",
       "\n",
       "                      Ubicación  ...  \\\n",
       "0                       Terraza  ...   \n",
       "1                       Terraza  ...   \n",
       "2              Sala Audiovisual  ...   \n",
       "3              Sala Audiovisual  ...   \n",
       "4                       Terraza  ...   \n",
       "5                       Terraza  ...   \n",
       "6              Sala Audiovisual  ...   \n",
       "7              Sala Audiovisual  ...   \n",
       "8                       Terraza  ...   \n",
       "9                       Terraza  ...   \n",
       "10             Sala Audiovisual  ...   \n",
       "11                    Auditorio  ...   \n",
       "12  Auditorio, Sala Audiovisual  ...   \n",
       "13        Torreón I, Torreón II  ...   \n",
       "14             Sala Audiovisual  ...   \n",
       "15                          NaN  ...   \n",
       "16             Sala Audiovisual  ...   \n",
       "17             Sala Audiovisual  ...   \n",
       "18             Sala Audiovisual  ...   \n",
       "19                        Patio  ...   \n",
       "\n",
       "                                                  url  \\\n",
       "0   https://www.lacasaencendida.es/cine/sonidos-de...   \n",
       "1     https://www.lacasaencendida.es/conciertos/cashu   \n",
       "2   https://www.lacasaencendida.es/cine/el-orden-d...   \n",
       "3   https://www.lacasaencendida.es/cine/loving-de-...   \n",
       "4   https://www.lacasaencendida.es/cine/greener-gr...   \n",
       "5    https://www.lacasaencendida.es/conciertos/simona   \n",
       "6   https://www.lacasaencendida.es/cine/para-sama-...   \n",
       "7   https://www.lacasaencendida.es/cine/solo-nos-q...   \n",
       "8   https://www.lacasaencendida.es/cine/ema-de-pab...   \n",
       "9   https://www.lacasaencendida.es/conciertos/dina...   \n",
       "10  https://www.lacasaencendida.es/encuentros/mues...   \n",
       "11  https://www.lacasaencendida.es/encuentros/teat...   \n",
       "12  https://www.lacasaencendida.es/encuentros/conv...   \n",
       "13  https://www.lacasaencendida.es/encuentros/encu...   \n",
       "14  https://www.lacasaencendida.es/cine/unicorn-wa...   \n",
       "15  https://www.lacasaencendida.es/encuentros/la-i...   \n",
       "16  https://www.lacasaencendida.es/cine/partidos-d...   \n",
       "17  https://www.lacasaencendida.es/cine/the-video-...   \n",
       "18  https://www.lacasaencendida.es/cine/nuevos-pas...   \n",
       "19  https://www.lacasaencendida.es/escenicas/rave-...   \n",
       "\n",
       "                                                image    year   category1  \\\n",
       "0   https://www.lacasaencendida.es/storage/14817/r...  2023.0        CINE   \n",
       "1   https://www.lacasaencendida.es/storage/15099/r...  2023.0  CONCIERTOS   \n",
       "2   https://www.lacasaencendida.es/storage/13824/r...  2023.0        CINE   \n",
       "3   https://www.lacasaencendida.es/storage/13815/r...  2023.0        CINE   \n",
       "4   https://www.lacasaencendida.es/storage/14816/r...  2023.0        CINE   \n",
       "5   https://www.lacasaencendida.es/storage/14904/r...  2023.0  CONCIERTOS   \n",
       "6   https://www.lacasaencendida.es/storage/13816/r...  2023.0        CINE   \n",
       "7   https://www.lacasaencendida.es/storage/13817/r...  2023.0        CINE   \n",
       "8   https://www.lacasaencendida.es/storage/14995/r...  2023.0        CINE   \n",
       "9   https://www.lacasaencendida.es/storage/14903/r...  2023.0  CONCIERTOS   \n",
       "10  https://www.lacasaencendida.es/storage/13178/r...  2023.0  ENCUENTROS   \n",
       "11  https://www.lacasaencendida.es/storage/12693/r...  2023.0  ENCUENTROS   \n",
       "12  https://www.lacasaencendida.es/storage/14997/r...  2023.0  ENCUENTROS   \n",
       "13  https://www.lacasaencendida.es/storage/14409/r...  2023.0  ENCUENTROS   \n",
       "14  https://www.lacasaencendida.es/storage/13414/r...  2023.0        CINE   \n",
       "15  https://www.lacasaencendida.es/storage/14419/r...  2023.0  ENCUENTROS   \n",
       "16  https://www.lacasaencendida.es/storage/13413/r...  2023.0        CINE   \n",
       "17  https://www.lacasaencendida.es/storage/13993/r...  2023.0        CINE   \n",
       "18  https://www.lacasaencendida.es/storage/13994/r...  2023.0        CINE   \n",
       "19  https://www.lacasaencendida.es/storage/14540/r...  2023.0   ESCÉNICAS   \n",
       "\n",
       "     category2 category3  category4                        tag1  \\\n",
       "0         None      None       None               Audiovisuales   \n",
       "1         None      None       None                      Música   \n",
       "2   ENCUENTROS      None       None                  Feminismos   \n",
       "3   ENCUENTROS      None       None    Antirracismo / migración   \n",
       "4         None      None       None               Audiovisuales   \n",
       "5         None      None       None                      Música   \n",
       "6   ENCUENTROS      None       None  Contextos internacionales    \n",
       "7   ENCUENTROS      None       None              Audiovisuales    \n",
       "8         None      None       None               Audiovisuales   \n",
       "9         None      None       None                      Música   \n",
       "10        None      None       None  Artes Visuales / Plásticas   \n",
       "11        None      None       None  Artes Visuales / Plásticas   \n",
       "12        None      None       None              Sostenibilidad   \n",
       "13        None      None       None                  Literatura   \n",
       "14  ENCUENTROS      None       None  Contextos internacionales    \n",
       "15      ONLINE      None       None             Sostenibilidad    \n",
       "16  ENCUENTROS      None       None  Contextos internacionales    \n",
       "17  ENCUENTROS      None       None               Audiovisuales   \n",
       "18  ENCUENTROS      None       None               Audiovisuales   \n",
       "19        None      None       None                      Música   \n",
       "\n",
       "              tag2                      tag3  \n",
       "0             None                      None  \n",
       "1             None                      None  \n",
       "2             None                      None  \n",
       "3             None                      None  \n",
       "4             None                      None  \n",
       "5             None                      None  \n",
       "6    Audiovisuales                      None  \n",
       "7           LGTBIQ                      None  \n",
       "8             None                      None  \n",
       "9             None                      None  \n",
       "10            None                      None  \n",
       "11            None                      None  \n",
       "12            None                      None  \n",
       "13            None                      None  \n",
       "14  Audiovisuales   Antirracismo / migración  \n",
       "15     Pensamiento                      None  \n",
       "16  Audiovisuales   Antirracismo / migración  \n",
       "17            None                      None  \n",
       "18            None                      None  \n",
       "19            None                      None  \n",
       "\n",
       "[20 rows x 24 columns]"
      ]
     },
     "execution_count": 52,
     "metadata": {},
     "output_type": "execute_result"
    }
   ],
   "source": [
    "# Separamos las categorías y los tags\n",
    "from ast import literal_eval\n",
    "casa_df_sep = pd.read_csv(\"../data/casa-encendida/casa_enc_year.csv\",converters={\"category\": literal_eval})\n",
    "casa_df_sep[['category1','category2','category3','category4']] = pd.DataFrame(casa_df_sep.category.tolist(), index= casa_df_sep.index)\n",
    "casa_df_sep\n",
    "casa_df_sep[['non','tag1','tag2','tag3']] = casa_df_sep['tags'].str.split(r'#', expand=True,regex=True)\n",
    "for i in range (1,4):\n",
    "    casa_df_sep[f'tag{i}'] = casa_df_sep[f'tag{i}'].str.replace(\"']\",\"\",regex=True)\n",
    "casa_df_sep.drop(\"non\",axis=1,inplace=True)\n",
    "casa_df_sep.head(20)\n",
    "#casa_df_sep.to_csv(\"../data/casa-encendida/casa_enc_sep.csv\")\n",
    "#casa_df_sep[\"category4\"].unique()"
   ]
  },
  {
   "cell_type": "markdown",
   "metadata": {},
   "source": [
    "## Conteo total de eventos por categoría"
   ]
  },
  {
   "cell_type": "code",
   "execution_count": 53,
   "metadata": {},
   "outputs": [],
   "source": [
    "import sqlite3\n",
    "cnx = sqlite3.connect(':memory:')\n",
    "\n",
    "df = pd.read_csv(\"../data/casa-encendida/casa_enc_sep.csv\")\n",
    "df.head()\n",
    "df.to_sql('casaenc3', con= cnx,if_exists='append',index=False)\n",
    "def sql_query(query):\n",
    "    return pd.read_sql(query,cnx)"
   ]
  },
  {
   "cell_type": "code",
   "execution_count": 54,
   "metadata": {},
   "outputs": [
    {
     "name": "stdout",
     "output_type": "stream",
     "text": [
      "['ENCUENTROS' 'CINE' 'CONCIERTOS' 'ONLINE' 'ESCÉNICAS' 'EXPOSICIONES'\n",
      " 'PROYECTO' 'SALIDAS' 'ESCOLARES' 'MEDIACIÓN' 'EN FAMILIA'\n",
      " 'PRESENTACIONES'] ['ENCUENTROS' 'CINE' 'CONCIERTOS' 'ESCÉNICAS' 'PROYECTO' 'PRESENTACIONES'\n",
      " 'SALIDAS' 'ONLINE' 'MEDIACIÓN' 'EN FAMILIA' 'EXPOSICIONES' 'ESCOLARES'\n",
      " None] ['ENCUENTROS' 'CINE' 'PROYECTO' 'ESCÉNICAS' 'SALIDAS' 'PRESENTACIONES'\n",
      " 'ESCOLARES' 'MEDIACIÓN' 'CONCIERTOS' None] ['PROYECTO' 'ESCÉNICAS' 'ENCUENTROS' 'CINE' None]\n"
     ]
    },
    {
     "data": {
      "text/html": [
       "<div>\n",
       "<style scoped>\n",
       "    .dataframe tbody tr th:only-of-type {\n",
       "        vertical-align: middle;\n",
       "    }\n",
       "\n",
       "    .dataframe tbody tr th {\n",
       "        vertical-align: top;\n",
       "    }\n",
       "\n",
       "    .dataframe thead th {\n",
       "        text-align: right;\n",
       "    }\n",
       "</style>\n",
       "<table border=\"1\" class=\"dataframe\">\n",
       "  <thead>\n",
       "    <tr style=\"text-align: right;\">\n",
       "      <th></th>\n",
       "      <th>category1</th>\n",
       "      <th>num_eventos</th>\n",
       "    </tr>\n",
       "  </thead>\n",
       "  <tbody>\n",
       "    <tr>\n",
       "      <th>0</th>\n",
       "      <td>ENCUENTROS</td>\n",
       "      <td>1940.0</td>\n",
       "    </tr>\n",
       "    <tr>\n",
       "      <th>1</th>\n",
       "      <td>CINE</td>\n",
       "      <td>1352.0</td>\n",
       "    </tr>\n",
       "    <tr>\n",
       "      <th>2</th>\n",
       "      <td>CONCIERTOS</td>\n",
       "      <td>541.0</td>\n",
       "    </tr>\n",
       "    <tr>\n",
       "      <th>4</th>\n",
       "      <td>ESCÉNICAS</td>\n",
       "      <td>498.0</td>\n",
       "    </tr>\n",
       "    <tr>\n",
       "      <th>3</th>\n",
       "      <td>ONLINE</td>\n",
       "      <td>494.0</td>\n",
       "    </tr>\n",
       "    <tr>\n",
       "      <th>5</th>\n",
       "      <td>EXPOSICIONES</td>\n",
       "      <td>126.0</td>\n",
       "    </tr>\n",
       "    <tr>\n",
       "      <th>6</th>\n",
       "      <td>PROYECTO</td>\n",
       "      <td>104.0</td>\n",
       "    </tr>\n",
       "    <tr>\n",
       "      <th>7</th>\n",
       "      <td>SALIDAS</td>\n",
       "      <td>73.0</td>\n",
       "    </tr>\n",
       "    <tr>\n",
       "      <th>8</th>\n",
       "      <td>ESCOLARES</td>\n",
       "      <td>51.0</td>\n",
       "    </tr>\n",
       "    <tr>\n",
       "      <th>9</th>\n",
       "      <td>MEDIACIÓN</td>\n",
       "      <td>45.0</td>\n",
       "    </tr>\n",
       "    <tr>\n",
       "      <th>11</th>\n",
       "      <td>PRESENTACIONES</td>\n",
       "      <td>43.0</td>\n",
       "    </tr>\n",
       "    <tr>\n",
       "      <th>10</th>\n",
       "      <td>EN FAMILIA</td>\n",
       "      <td>40.0</td>\n",
       "    </tr>\n",
       "  </tbody>\n",
       "</table>\n",
       "</div>"
      ],
      "text/plain": [
       "         category1  num_eventos\n",
       "0       ENCUENTROS       1940.0\n",
       "1             CINE       1352.0\n",
       "2       CONCIERTOS        541.0\n",
       "4        ESCÉNICAS        498.0\n",
       "3           ONLINE        494.0\n",
       "5     EXPOSICIONES        126.0\n",
       "6         PROYECTO        104.0\n",
       "7          SALIDAS         73.0\n",
       "8        ESCOLARES         51.0\n",
       "9        MEDIACIÓN         45.0\n",
       "11  PRESENTACIONES         43.0\n",
       "10      EN FAMILIA         40.0"
      ]
     },
     "execution_count": 54,
     "metadata": {},
     "output_type": "execute_result"
    }
   ],
   "source": [
    "## Prueba con SQL\n",
    "query1=\"\"\"\n",
    "SELECT DISTINCT category1,COUNT(category1)\n",
    "FROM casaenc3 \n",
    "GROUP BY category1\n",
    "ORDER BY COUNT(category1) DESC\n",
    "\"\"\"\n",
    "query2=\"\"\"\n",
    "SELECT DISTINCT category2,COUNT(category2)\n",
    "FROM casaenc3 \n",
    "GROUP BY category2\n",
    "ORDER BY COUNT(category2) DESC\n",
    "\"\"\"\n",
    "query3=\"\"\"\n",
    "SELECT DISTINCT category3,COUNT(category3)\n",
    "FROM casaenc3 \n",
    "GROUP BY category3\n",
    "ORDER BY COUNT(category3) DESC\n",
    "\"\"\"\n",
    "query4=\"\"\"\n",
    "SELECT DISTINCT category4,COUNT(category4)\n",
    "FROM casaenc3 \n",
    "GROUP BY category4\n",
    "ORDER BY COUNT(category4) DESC\n",
    "\"\"\"\n",
    "cat1 = sql_query(query1)\n",
    "cat2 = sql_query(query2)\n",
    "cat3 = sql_query(query3)\n",
    "cat4 = sql_query(query4)\n",
    "print(cat1[\"category1\"].unique(),cat2[\"category2\"].unique(),cat3[\"category3\"].unique(),cat4[\"category4\"].unique())\n",
    "full1= pd.merge(cat1,cat2,left_on=\"category1\",right_on=\"category2\",how=\"outer\")\n",
    "full2 = pd.merge(cat3,cat4,left_on=\"category3\",right_on=\"category4\",how=\"outer\")\n",
    "full3 = pd.merge(full1,full2,left_on=\"category1\",right_on=\"category3\",how=\"outer\")\n",
    "full3[\"num_eventos\"] = full3[\"COUNT(category1)\"].fillna(0)+full3[\"COUNT(category2)\"].fillna(0)+full3[\"COUNT(category3)\"].fillna(0)+full3[\"COUNT(category4)\"].fillna(0)\n",
    "cat_count = full3[[\"category1\",\"num_eventos\"]].drop(12).sort_values(\"num_eventos\",ascending=False)\n",
    "cat_count"
   ]
  },
  {
   "cell_type": "markdown",
   "metadata": {},
   "source": [
    "## Visualización de categorías en total"
   ]
  },
  {
   "cell_type": "code",
   "execution_count": 55,
   "metadata": {},
   "outputs": [
    {
     "data": {
      "application/vnd.plotly.v1+json": {
       "config": {
        "plotlyServerURL": "https://plot.ly"
       },
       "data": [
        {
         "branchvalues": "total",
         "domain": {
          "x": [
           0,
           1
          ],
          "y": [
           0,
           1
          ]
         },
         "hovertemplate": "labels=%{label}<br>num_eventos=%{value}<br>parent=%{parent}<br>id=%{id}<extra></extra>",
         "ids": [
          "Categorías/CINE",
          "Categorías/CONCIERTOS",
          "Categorías/EN FAMILIA",
          "Categorías/ENCUENTROS",
          "Categorías/ESCOLARES",
          "Categorías/ESCÉNICAS",
          "Categorías/EXPOSICIONES",
          "Categorías/MEDIACIÓN",
          "Categorías/ONLINE",
          "Categorías/PRESENTACIONES",
          "Categorías/PROYECTO",
          "Categorías/SALIDAS",
          "Categorías"
         ],
         "labels": [
          "CINE",
          "CONCIERTOS",
          "EN FAMILIA",
          "ENCUENTROS",
          "ESCOLARES",
          "ESCÉNICAS",
          "EXPOSICIONES",
          "MEDIACIÓN",
          "ONLINE",
          "PRESENTACIONES",
          "PROYECTO",
          "SALIDAS",
          "Categorías"
         ],
         "name": "",
         "parents": [
          "Categorías",
          "Categorías",
          "Categorías",
          "Categorías",
          "Categorías",
          "Categorías",
          "Categorías",
          "Categorías",
          "Categorías",
          "Categorías",
          "Categorías",
          "Categorías",
          ""
         ],
         "root": {
          "color": "lightgrey"
         },
         "type": "treemap",
         "values": [
          1352,
          541,
          40,
          1940,
          51,
          498,
          126,
          45,
          494,
          43,
          104,
          73,
          5307
         ]
        }
       ],
       "layout": {
        "legend": {
         "tracegroupgap": 0
        },
        "margin": {
         "b": 25,
         "l": 25,
         "r": 25,
         "t": 50
        },
        "template": {
         "data": {
          "bar": [
           {
            "error_x": {
             "color": "#2a3f5f"
            },
            "error_y": {
             "color": "#2a3f5f"
            },
            "marker": {
             "line": {
              "color": "#E5ECF6",
              "width": 0.5
             },
             "pattern": {
              "fillmode": "overlay",
              "size": 10,
              "solidity": 0.2
             }
            },
            "type": "bar"
           }
          ],
          "barpolar": [
           {
            "marker": {
             "line": {
              "color": "#E5ECF6",
              "width": 0.5
             },
             "pattern": {
              "fillmode": "overlay",
              "size": 10,
              "solidity": 0.2
             }
            },
            "type": "barpolar"
           }
          ],
          "carpet": [
           {
            "aaxis": {
             "endlinecolor": "#2a3f5f",
             "gridcolor": "white",
             "linecolor": "white",
             "minorgridcolor": "white",
             "startlinecolor": "#2a3f5f"
            },
            "baxis": {
             "endlinecolor": "#2a3f5f",
             "gridcolor": "white",
             "linecolor": "white",
             "minorgridcolor": "white",
             "startlinecolor": "#2a3f5f"
            },
            "type": "carpet"
           }
          ],
          "choropleth": [
           {
            "colorbar": {
             "outlinewidth": 0,
             "ticks": ""
            },
            "type": "choropleth"
           }
          ],
          "contour": [
           {
            "colorbar": {
             "outlinewidth": 0,
             "ticks": ""
            },
            "colorscale": [
             [
              0,
              "#0d0887"
             ],
             [
              0.1111111111111111,
              "#46039f"
             ],
             [
              0.2222222222222222,
              "#7201a8"
             ],
             [
              0.3333333333333333,
              "#9c179e"
             ],
             [
              0.4444444444444444,
              "#bd3786"
             ],
             [
              0.5555555555555556,
              "#d8576b"
             ],
             [
              0.6666666666666666,
              "#ed7953"
             ],
             [
              0.7777777777777778,
              "#fb9f3a"
             ],
             [
              0.8888888888888888,
              "#fdca26"
             ],
             [
              1,
              "#f0f921"
             ]
            ],
            "type": "contour"
           }
          ],
          "contourcarpet": [
           {
            "colorbar": {
             "outlinewidth": 0,
             "ticks": ""
            },
            "type": "contourcarpet"
           }
          ],
          "heatmap": [
           {
            "colorbar": {
             "outlinewidth": 0,
             "ticks": ""
            },
            "colorscale": [
             [
              0,
              "#0d0887"
             ],
             [
              0.1111111111111111,
              "#46039f"
             ],
             [
              0.2222222222222222,
              "#7201a8"
             ],
             [
              0.3333333333333333,
              "#9c179e"
             ],
             [
              0.4444444444444444,
              "#bd3786"
             ],
             [
              0.5555555555555556,
              "#d8576b"
             ],
             [
              0.6666666666666666,
              "#ed7953"
             ],
             [
              0.7777777777777778,
              "#fb9f3a"
             ],
             [
              0.8888888888888888,
              "#fdca26"
             ],
             [
              1,
              "#f0f921"
             ]
            ],
            "type": "heatmap"
           }
          ],
          "heatmapgl": [
           {
            "colorbar": {
             "outlinewidth": 0,
             "ticks": ""
            },
            "colorscale": [
             [
              0,
              "#0d0887"
             ],
             [
              0.1111111111111111,
              "#46039f"
             ],
             [
              0.2222222222222222,
              "#7201a8"
             ],
             [
              0.3333333333333333,
              "#9c179e"
             ],
             [
              0.4444444444444444,
              "#bd3786"
             ],
             [
              0.5555555555555556,
              "#d8576b"
             ],
             [
              0.6666666666666666,
              "#ed7953"
             ],
             [
              0.7777777777777778,
              "#fb9f3a"
             ],
             [
              0.8888888888888888,
              "#fdca26"
             ],
             [
              1,
              "#f0f921"
             ]
            ],
            "type": "heatmapgl"
           }
          ],
          "histogram": [
           {
            "marker": {
             "pattern": {
              "fillmode": "overlay",
              "size": 10,
              "solidity": 0.2
             }
            },
            "type": "histogram"
           }
          ],
          "histogram2d": [
           {
            "colorbar": {
             "outlinewidth": 0,
             "ticks": ""
            },
            "colorscale": [
             [
              0,
              "#0d0887"
             ],
             [
              0.1111111111111111,
              "#46039f"
             ],
             [
              0.2222222222222222,
              "#7201a8"
             ],
             [
              0.3333333333333333,
              "#9c179e"
             ],
             [
              0.4444444444444444,
              "#bd3786"
             ],
             [
              0.5555555555555556,
              "#d8576b"
             ],
             [
              0.6666666666666666,
              "#ed7953"
             ],
             [
              0.7777777777777778,
              "#fb9f3a"
             ],
             [
              0.8888888888888888,
              "#fdca26"
             ],
             [
              1,
              "#f0f921"
             ]
            ],
            "type": "histogram2d"
           }
          ],
          "histogram2dcontour": [
           {
            "colorbar": {
             "outlinewidth": 0,
             "ticks": ""
            },
            "colorscale": [
             [
              0,
              "#0d0887"
             ],
             [
              0.1111111111111111,
              "#46039f"
             ],
             [
              0.2222222222222222,
              "#7201a8"
             ],
             [
              0.3333333333333333,
              "#9c179e"
             ],
             [
              0.4444444444444444,
              "#bd3786"
             ],
             [
              0.5555555555555556,
              "#d8576b"
             ],
             [
              0.6666666666666666,
              "#ed7953"
             ],
             [
              0.7777777777777778,
              "#fb9f3a"
             ],
             [
              0.8888888888888888,
              "#fdca26"
             ],
             [
              1,
              "#f0f921"
             ]
            ],
            "type": "histogram2dcontour"
           }
          ],
          "mesh3d": [
           {
            "colorbar": {
             "outlinewidth": 0,
             "ticks": ""
            },
            "type": "mesh3d"
           }
          ],
          "parcoords": [
           {
            "line": {
             "colorbar": {
              "outlinewidth": 0,
              "ticks": ""
             }
            },
            "type": "parcoords"
           }
          ],
          "pie": [
           {
            "automargin": true,
            "type": "pie"
           }
          ],
          "scatter": [
           {
            "fillpattern": {
             "fillmode": "overlay",
             "size": 10,
             "solidity": 0.2
            },
            "type": "scatter"
           }
          ],
          "scatter3d": [
           {
            "line": {
             "colorbar": {
              "outlinewidth": 0,
              "ticks": ""
             }
            },
            "marker": {
             "colorbar": {
              "outlinewidth": 0,
              "ticks": ""
             }
            },
            "type": "scatter3d"
           }
          ],
          "scattercarpet": [
           {
            "marker": {
             "colorbar": {
              "outlinewidth": 0,
              "ticks": ""
             }
            },
            "type": "scattercarpet"
           }
          ],
          "scattergeo": [
           {
            "marker": {
             "colorbar": {
              "outlinewidth": 0,
              "ticks": ""
             }
            },
            "type": "scattergeo"
           }
          ],
          "scattergl": [
           {
            "marker": {
             "colorbar": {
              "outlinewidth": 0,
              "ticks": ""
             }
            },
            "type": "scattergl"
           }
          ],
          "scattermapbox": [
           {
            "marker": {
             "colorbar": {
              "outlinewidth": 0,
              "ticks": ""
             }
            },
            "type": "scattermapbox"
           }
          ],
          "scatterpolar": [
           {
            "marker": {
             "colorbar": {
              "outlinewidth": 0,
              "ticks": ""
             }
            },
            "type": "scatterpolar"
           }
          ],
          "scatterpolargl": [
           {
            "marker": {
             "colorbar": {
              "outlinewidth": 0,
              "ticks": ""
             }
            },
            "type": "scatterpolargl"
           }
          ],
          "scatterternary": [
           {
            "marker": {
             "colorbar": {
              "outlinewidth": 0,
              "ticks": ""
             }
            },
            "type": "scatterternary"
           }
          ],
          "surface": [
           {
            "colorbar": {
             "outlinewidth": 0,
             "ticks": ""
            },
            "colorscale": [
             [
              0,
              "#0d0887"
             ],
             [
              0.1111111111111111,
              "#46039f"
             ],
             [
              0.2222222222222222,
              "#7201a8"
             ],
             [
              0.3333333333333333,
              "#9c179e"
             ],
             [
              0.4444444444444444,
              "#bd3786"
             ],
             [
              0.5555555555555556,
              "#d8576b"
             ],
             [
              0.6666666666666666,
              "#ed7953"
             ],
             [
              0.7777777777777778,
              "#fb9f3a"
             ],
             [
              0.8888888888888888,
              "#fdca26"
             ],
             [
              1,
              "#f0f921"
             ]
            ],
            "type": "surface"
           }
          ],
          "table": [
           {
            "cells": {
             "fill": {
              "color": "#EBF0F8"
             },
             "line": {
              "color": "white"
             }
            },
            "header": {
             "fill": {
              "color": "#C8D4E3"
             },
             "line": {
              "color": "white"
             }
            },
            "type": "table"
           }
          ]
         },
         "layout": {
          "annotationdefaults": {
           "arrowcolor": "#2a3f5f",
           "arrowhead": 0,
           "arrowwidth": 1
          },
          "autotypenumbers": "strict",
          "coloraxis": {
           "colorbar": {
            "outlinewidth": 0,
            "ticks": ""
           }
          },
          "colorscale": {
           "diverging": [
            [
             0,
             "#8e0152"
            ],
            [
             0.1,
             "#c51b7d"
            ],
            [
             0.2,
             "#de77ae"
            ],
            [
             0.3,
             "#f1b6da"
            ],
            [
             0.4,
             "#fde0ef"
            ],
            [
             0.5,
             "#f7f7f7"
            ],
            [
             0.6,
             "#e6f5d0"
            ],
            [
             0.7,
             "#b8e186"
            ],
            [
             0.8,
             "#7fbc41"
            ],
            [
             0.9,
             "#4d9221"
            ],
            [
             1,
             "#276419"
            ]
           ],
           "sequential": [
            [
             0,
             "#0d0887"
            ],
            [
             0.1111111111111111,
             "#46039f"
            ],
            [
             0.2222222222222222,
             "#7201a8"
            ],
            [
             0.3333333333333333,
             "#9c179e"
            ],
            [
             0.4444444444444444,
             "#bd3786"
            ],
            [
             0.5555555555555556,
             "#d8576b"
            ],
            [
             0.6666666666666666,
             "#ed7953"
            ],
            [
             0.7777777777777778,
             "#fb9f3a"
            ],
            [
             0.8888888888888888,
             "#fdca26"
            ],
            [
             1,
             "#f0f921"
            ]
           ],
           "sequentialminus": [
            [
             0,
             "#0d0887"
            ],
            [
             0.1111111111111111,
             "#46039f"
            ],
            [
             0.2222222222222222,
             "#7201a8"
            ],
            [
             0.3333333333333333,
             "#9c179e"
            ],
            [
             0.4444444444444444,
             "#bd3786"
            ],
            [
             0.5555555555555556,
             "#d8576b"
            ],
            [
             0.6666666666666666,
             "#ed7953"
            ],
            [
             0.7777777777777778,
             "#fb9f3a"
            ],
            [
             0.8888888888888888,
             "#fdca26"
            ],
            [
             1,
             "#f0f921"
            ]
           ]
          },
          "colorway": [
           "#636efa",
           "#EF553B",
           "#00cc96",
           "#ab63fa",
           "#FFA15A",
           "#19d3f3",
           "#FF6692",
           "#B6E880",
           "#FF97FF",
           "#FECB52"
          ],
          "font": {
           "color": "#2a3f5f"
          },
          "geo": {
           "bgcolor": "white",
           "lakecolor": "white",
           "landcolor": "#E5ECF6",
           "showlakes": true,
           "showland": true,
           "subunitcolor": "white"
          },
          "hoverlabel": {
           "align": "left"
          },
          "hovermode": "closest",
          "mapbox": {
           "style": "light"
          },
          "paper_bgcolor": "white",
          "plot_bgcolor": "#E5ECF6",
          "polar": {
           "angularaxis": {
            "gridcolor": "white",
            "linecolor": "white",
            "ticks": ""
           },
           "bgcolor": "#E5ECF6",
           "radialaxis": {
            "gridcolor": "white",
            "linecolor": "white",
            "ticks": ""
           }
          },
          "scene": {
           "xaxis": {
            "backgroundcolor": "#E5ECF6",
            "gridcolor": "white",
            "gridwidth": 2,
            "linecolor": "white",
            "showbackground": true,
            "ticks": "",
            "zerolinecolor": "white"
           },
           "yaxis": {
            "backgroundcolor": "#E5ECF6",
            "gridcolor": "white",
            "gridwidth": 2,
            "linecolor": "white",
            "showbackground": true,
            "ticks": "",
            "zerolinecolor": "white"
           },
           "zaxis": {
            "backgroundcolor": "#E5ECF6",
            "gridcolor": "white",
            "gridwidth": 2,
            "linecolor": "white",
            "showbackground": true,
            "ticks": "",
            "zerolinecolor": "white"
           }
          },
          "shapedefaults": {
           "line": {
            "color": "#2a3f5f"
           }
          },
          "ternary": {
           "aaxis": {
            "gridcolor": "white",
            "linecolor": "white",
            "ticks": ""
           },
           "baxis": {
            "gridcolor": "white",
            "linecolor": "white",
            "ticks": ""
           },
           "bgcolor": "#E5ECF6",
           "caxis": {
            "gridcolor": "white",
            "linecolor": "white",
            "ticks": ""
           }
          },
          "title": {
           "x": 0.05
          },
          "xaxis": {
           "automargin": true,
           "gridcolor": "white",
           "linecolor": "white",
           "ticks": "",
           "title": {
            "standoff": 15
           },
           "zerolinecolor": "white",
           "zerolinewidth": 2
          },
          "yaxis": {
           "automargin": true,
           "gridcolor": "white",
           "linecolor": "white",
           "ticks": "",
           "title": {
            "standoff": 15
           },
           "zerolinecolor": "white",
           "zerolinewidth": 2
          }
         }
        }
       }
      }
     },
     "metadata": {},
     "output_type": "display_data"
    }
   ],
   "source": [
    "import plotly.express as px\n",
    "fig = px.treemap(cat_count, path=[px.Constant(\"Categorías\"),'category1'], values='num_eventos',labels=cat_count.columns)\n",
    "fig.update_traces(root_color=\"lightgrey\")\n",
    "fig.update_layout(margin = dict(t=50, l=25, r=25, b=25))\n",
    "fig.show()\n",
    "#fig.write_html(\"../img/tree.html\")"
   ]
  }
 ],
 "metadata": {
  "kernelspec": {
   "display_name": "Python 3",
   "language": "python",
   "name": "python3"
  },
  "language_info": {
   "codemirror_mode": {
    "name": "ipython",
    "version": 3
   },
   "file_extension": ".py",
   "mimetype": "text/x-python",
   "name": "python",
   "nbconvert_exporter": "python",
   "pygments_lexer": "ipython3",
   "version": "3.11.3"
  },
  "orig_nbformat": 4
 },
 "nbformat": 4,
 "nbformat_minor": 2
}
